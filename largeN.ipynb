{
 "cells": [
  {
   "cell_type": "markdown",
   "metadata": {},
   "source": [
    "\n",
    "Use the Lehman rep package for fast fourier transforms to\n",
    "solve the self-consistent equations directly at very low temperatures\n",
    "\n",
    "A large-N Schwinger boson solver based on a forward fixed-point iteration method.\n",
    "\n",
    "The self-energy of bosons and holons are given by,\n",
    "\n",
    "   Σ_B(τ) = - γ G_c(τ) * G_h(τ),\n",
    "\n",
    "   Σ_h(τ) = - G_c(β - τ) * G_b(τ),\n",
    "   \n",
    "where the boson and holon Green's function are given by the Dyson equation,\n",
    "\n",
    "   G_B(iωₙ) = 1/(iνₙ - λ - Σ_B(iνₙ))\n",
    "\n",
    "   G_h(iωₙ) = 1/(-1/J_K - Σ_h(iνₙ))\n",
    "\n",
    "Furthermore, we need to enforce the Lagrange multiplier constraint, such that the\n",
    "boson occupation number is maintained at q= 2S/N (a pre-defined and constant scalar).\n",
    "This leads to \n",
    "\n",
    "n_b(λ) = G_b (τ = 0-) = q\n",
    "\n",
    "Therefore, one needs to find the correct λ to satisfy this.\n",
    "\n",
    "We solve the Dyson equation self-consistently by a weighted fixed point iteration, \n",
    "with weight `mix` assigned to the new iterate and weight `1-mix` assigned to the previous iterate. \n",
    "mix can be rather big for this non-critical system.\n",
    " \n",
    "The self-energy is evaluated in the imaginary time domain, \n",
    "and the Dyson equation is solved in the Matsubara frequency domain.\n",
    "\n",
    "Note that an alternate notebook can be written through the GreenFunc.jl package.\n"
   ]
  },
  {
   "attachments": {},
   "cell_type": "markdown",
   "metadata": {},
   "source": [
    "Important links: \n",
    "https://numericaleft.github.io/Lehmann.jl/dev/lib/spectral/\n",
    "https://arxiv.org/pdf/2107.13094.pdf\n",
    "https://en.wikipedia.org/wiki/Matsubara_frequency\n"
   ]
  },
  {
   "cell_type": "code",
   "execution_count": 61,
   "metadata": {},
   "outputs": [
    {
     "name": "stdout",
     "output_type": "stream",
     "text": [
      "Initial Lagrange multiplier times β: 1.0986079130216133, x=-4.375646496319935e-8 and n_b - q = 2.429667578240924e-12\n"
     ]
    }
   ],
   "source": [
    "using Lehmann\n",
    "using Printf\n",
    "using Roots\n",
    "\n",
    "diff(a, b) = maximum(abs.(a - b)) # return the maximum deviation between a and b\n",
    "diff_modulated(a, b) = sum(abs.(a - b)) /sum(abs.(b)) # return the maximum deviation between a and b\n",
    "\n",
    "\n",
    "# Initialize DLR grid\n",
    "\n",
    "rtol = 1e-8\n",
    "β = 100.0  #inverse temperature\n",
    "Euv = 100 #UV cutoff\n",
    "df = DLRGrid(Euv = Euv, β = β, isFermi = true, rtol = rtol, symmetry = :none) #fermionic DLR grid\n",
    "db = DLRGrid(Euv = Euv, β = β, isFermi = false, rtol = rtol, symmetry = :none) #bosonic DLR grid\n",
    "\n",
    "\n",
    "G_B = zeros(ComplexF64, length(db))\n",
    "G_h = zeros(ComplexF64, length(df))\n",
    "G_B_new = zeros(ComplexF64, length(db))\n",
    "G_h_new = zeros(ComplexF64, length(df))\n",
    "Sigma_B = zeros(ComplexF64, length(db)) \n",
    "Sigma_h = zeros(ComplexF64, length(df))\n",
    "#some small broadening at the beginning is necessary\n",
    "#Sigma_B = 1im*eta*ones(ComplexF64, length(db)) \n",
    "#Sigma_h = 1im*eta*ones(ComplexF64, length(df))\n",
    "\n",
    "D = 20  #the half electronic bandwidth, needs to be smaller than Euv\n",
    "ρ = 1/(2*D)\n",
    "#below is the conduction electron bandwidth - this could be changed to be more \"realistic\"\n",
    "G_c_matfreq = - ρ .* log.( (D .- df.ωn * 1im) ./ (- D .- df.ωn * 1im))\n",
    "G_c = matfreq2tau(df, G_c_matfreq)\n",
    "\n",
    "q0 = 0.5 # q0 = 2S/N\n",
    "γ = q0  # γ ≠ q0 means a under or over screened Kondo model \n",
    "λ = (1/β) * log(1/q0 +1) #initial λ for the loop\n",
    "eta = 0.001*λ\n",
    "β_K = 50  #Kondo temperature, used to define J_K, needs to be larger than initial β\n",
    "J_K = 1 / ρ / log(D * β_K) #alternatively, J_K could be defined by itself\n",
    "\n",
    "#initialize G_B and G_h with their broadening factors.\n",
    "#G_B = G_B .+ 1 ./(db.ωn * 1im .- λ + )\n",
    "#G_h = G_h .- J_K #this is the initial value\n",
    "#Sigma_B_matfreq = tau2matfreq(db, Sigma_B)\n",
    "#Sigma_h_matfreq = tau2matfreq(df, Sigma_h)\n",
    "#G_B_new = 1 ./(db.ωn * 1im .- λ .- 1im*eta*ones(ComplexF64, length(db)) ) #in omega freq\n",
    "G_B_new = G_B_new + 1 ./(db.ωn * 1im .- λ) #in omega freq\n",
    "G_h_new = G_h_new .+ 1 ./((-1.0 ./J_K )) #in omega freq\n",
    "#in τ form\n",
    "G_B = G_B + matfreq2tau(db, G_B_new)\n",
    "G_h = G_h + matfreq2tau(df, G_h_new)\n",
    "\n",
    "#change initial G_B and G_h to tau format\n",
    "\n",
    "function nB_from_Gb_omega(Gfunc, dfreq, x)\n",
    "   #feed in the freq. valued green's function\n",
    "   new_Gfunc = 1.0 ./((1.0 ./Gfunc) .- x)\n",
    "   all_G_tau_dlr = matfreq2tau(dfreq, new_Gfunc) #last element is G(τ = 0-)\n",
    "   return -real(all_G_tau_dlr[end])\n",
    "end\n",
    "\n",
    "#plot sanity check\n",
    "#using Plots\n",
    "#plot(df.τ, real.(G_c))\n",
    "\n",
    "G_B_omega = tau2matfreq(db, G_B)\n",
    "f(x) = abs(q0 - nB_from_Gb_omega(G_B_omega, db, x)) #define the function for which the root needs to be found\n",
    "xval = find_zero(f, 0, order=1) #find the root. x is such that λ_tot = λ + x\n",
    "println(\"Initial Lagrange multiplier times β: $((λ + xval)*β), x=$xval and n_b - q = $(f(xval))\")\n",
    "#G_B_new = 1 ./(db.ωn * 1im .- λ .- xval .- 1im*eta*ones(ComplexF64, length(db)) ) #in omega freq\n",
    "G_B_new = 1 ./(db.ωn * 1im .- λ .- xval) #in omega freq\n",
    "G_B = matfreq2tau(db, G_B_new);\n"
   ]
  },
  {
   "cell_type": "code",
   "execution_count": 62,
   "metadata": {},
   "outputs": [
    {
     "name": "stdout",
     "output_type": "stream",
     "text": [
      "round 50: change B 0.46845402805862124 change χ 0.46845402805862124\n",
      "Lagrange multiplier times β: 17.007992138285964 and n_b - q = 1.1528593257814634e-6\n",
      " \n"
     ]
    },
    {
     "name": "stdout",
     "output_type": "stream",
     "text": [
      "round 100: change B 0.648361234529044 change χ 0.648361234529044\n",
      "Lagrange multiplier times β: 44.5302590753099 and n_b - q = 0.000856815590196236\n",
      " \n"
     ]
    },
    {
     "name": "stdout",
     "output_type": "stream",
     "text": [
      "round 150: change B 0.591926326460522 change χ 0.591926326460522\n",
      "Lagrange multiplier times β: 49.41739669798313 and n_b - q = 2.3156156093717684e-6\n",
      " \n"
     ]
    },
    {
     "name": "stdout",
     "output_type": "stream",
     "text": [
      "round 200: change B 0.41998834511923044 change χ 0.41998834511923044\n",
      "Lagrange multiplier times β: 45.52792647648117 and n_b - q = 8.858005569012395e-5\n",
      " \n"
     ]
    },
    {
     "name": "stdout",
     "output_type": "stream",
     "text": [
      "round 250: change B 0.19747660868693304 change χ 0.19747660868693304\n",
      "Lagrange multiplier times β: 39.24894181078253 and n_b - q = 0.00014578237351881018\n",
      " \n"
     ]
    },
    {
     "name": "stdout",
     "output_type": "stream",
     "text": [
      "round 300: change B 0.08824429623197538 change χ 0.08824429623197538\n",
      "Lagrange multiplier times β: 33.97669590498577 and n_b - q = 4.4958086887647575e-5\n",
      " \n"
     ]
    },
    {
     "name": "stdout",
     "output_type": "stream",
     "text": [
      "round 350: change B 0.13069377674737626 change χ 0.13069377674737626\n",
      "Lagrange multiplier times β: 31.244343134451775 and n_b - q = 6.48391374069579e-6\n",
      " \n"
     ]
    },
    {
     "name": "stdout",
     "output_type": "stream",
     "text": [
      "round 400: change B 0.12123371797214393 change χ 0.12123371797214393\n",
      "Lagrange multiplier times β: 30.95926833984458 and n_b - q = 2.487935415795839e-6\n",
      " \n"
     ]
    },
    {
     "name": "stdout",
     "output_type": "stream",
     "text": [
      "round 450: change B 0.09226657654759758 change χ 0.09226657654759758\n",
      "Lagrange multiplier times β: 32.20862720691529 and n_b - q = 2.683206264975091e-5\n",
      " \n"
     ]
    },
    {
     "name": "stdout",
     "output_type": "stream",
     "text": [
      "round 500: change B 0.06717417621229994 change χ 0.06717417621229994\n",
      "Lagrange multiplier times β: 34.07159521611509 and n_b - q = 6.342596167874248e-5\n",
      " \n"
     ]
    },
    {
     "name": "stdout",
     "output_type": "stream",
     "text": [
      "round 550: change B 0.052355648003181834 change χ 0.052355648003181834\n",
      "Lagrange multiplier times β: 35.97267472534196 and n_b - q = 2.9625099781660502e-5\n",
      " \n"
     ]
    },
    {
     "name": "stdout",
     "output_type": "stream",
     "text": [
      "round 600: change B 0.04598275412661205 change χ 0.04598275412661205\n",
      "Lagrange multiplier times β: 37.677779432864824 and n_b - q = 2.4257193143695233e-5\n",
      " \n"
     ]
    },
    {
     "name": "stdout",
     "output_type": "stream",
     "text": [
      "round 650: change B 0.04473179808308728 change χ 0.04473179808308728\n",
      "Lagrange multiplier times β: 39.16461327544049 and n_b - q = 1.1530734955078614e-5\n",
      " \n"
     ]
    },
    {
     "name": "stdout",
     "output_type": "stream",
     "text": [
      "round 700: change B 0.046086843253420426 change χ 0.046086843253420426\n",
      "Lagrange multiplier times β: 40.50102335723938 and n_b - q = 2.3140945045185823e-5\n",
      " \n"
     ]
    },
    {
     "name": "stdout",
     "output_type": "stream",
     "text": [
      "round 750: change B 0.048600515065299256 change χ 0.048600515065299256\n",
      "Lagrange multiplier times β: 41.771606959968395 and n_b - q = 1.3973463540928321e-5\n",
      " \n"
     ]
    },
    {
     "name": "stdout",
     "output_type": "stream",
     "text": [
      "round 800: change B 0.05169490292559778 change χ 0.05169490292559778\n",
      "Lagrange multiplier times β: 43.046392037709715 and n_b - q = 3.517347969339557e-5\n",
      " \n"
     ]
    },
    {
     "name": "stdout",
     "output_type": "stream",
     "text": [
      "round 850: change B 0.05536360556803081 change χ 0.05536360556803081\n",
      "Lagrange multiplier times β: 44.37578741255047 and n_b - q = 6.902955775767161e-6\n",
      " \n"
     ]
    },
    {
     "name": "stdout",
     "output_type": "stream",
     "text": [
      "round 900: change B 0.05992111125859438 change χ 0.05992111125859438\n",
      "Lagrange multiplier times β: 45.79729658938872 and n_b - q = 7.716697165538466e-6\n",
      " \n"
     ]
    },
    {
     "name": "stdout",
     "output_type": "stream",
     "text": [
      "round 950: change B 0.06587235796520363 change χ 0.06587235796520363\n",
      "Lagrange multiplier times β: 47.345474601102374 and n_b - q = 2.5682950199668042e-5\n",
      " \n"
     ]
    },
    {
     "name": "stdout",
     "output_type": "stream",
     "text": [
      "round 1000: change B 0.07392091892552358 change χ 0.07392091892552358\n",
      "Lagrange multiplier times β: 49.06216212271237 and n_b - q = 7.185001799303592e-6\n",
      " \n"
     ]
    },
    {
     "name": "stdout",
     "output_type": "stream",
     "text": [
      "done in 1002 steps"
     ]
    }
   ],
   "source": [
    "#iteration process\n",
    "#needs to be put into a function\n",
    "mix = 0.01\n",
    "maxiter = 1000\n",
    "numprint = 20\n",
    "sumrule = nothing\n",
    "verbose = true\n",
    "#tol = -maximum([-df.rtol * 10, -db.rtol * 10])\n",
    "tol = 1e-3\n",
    "\n",
    "#conduction electron G does not change\n",
    "tau_c = df.τ # DLR imaginary time nodes\n",
    "tau_c_rev = df.β .- tau_c # Reversed imaginary time nodes\n",
    "G_c_rev = tau2tau(df, G_c, tau_c_rev) # G_c at beta - tau_k\n",
    "\n",
    "cont = 1\n",
    "iter = 1\n",
    "while cont == 1\n",
    "   #old green's functions\n",
    "   G_B_old = G_B\n",
    "   G_h_old = G_h\n",
    "   #self energy equations in τ\n",
    "   Sigma_B = - γ .* G_h .* G_c\n",
    "   Sigma_h = G_B .* G_c_rev\n",
    "   #their ωn counterparts\n",
    "   Sigma_B_matfreq = tau2matfreq(db, Sigma_B)\n",
    "   Sigma_h_matfreq = tau2matfreq(df, Sigma_h)\n",
    "\n",
    "   #define new G_B and G_h in ωn using the self-energy\n",
    "   #1)\n",
    "   #solve the Lagrange multiplier constraint with new G_B \n",
    "   G_B_omega = 1 ./(db.ωn * 1im .- λ.- Sigma_B_matfreq)\n",
    "   f(x) = abs(q0 - nB_from_Gb_omega(G_B_omega, db, x)) #define the function for which the root needs to be found\n",
    "   xval = find_zero(f, xval, order=1, atol=1e-3) #find the root. x is such that λ_tot = λ + x\n",
    "   #2) create the new GB and Gh\n",
    "   G_B_new = 1 ./(db.ωn * 1im .- λ .- xval .- Sigma_B_matfreq)\n",
    "   G_h_new = 1 ./((- 1 ./J_K ) .- Sigma_h_matfreq)\n",
    "   #convert them to τ space\n",
    "   G_B_new_tau = matfreq2tau(db, G_B_new)\n",
    "   G_h_new_tau = matfreq2tau(df, G_h_new)\n",
    "\n",
    "   #mix old and new solutions together \n",
    "   G_B = mix * G_B_new_tau + (1 - mix) * G_B_old # Linear mixing\n",
    "   G_h = mix * G_h_new_tau + (1 - mix) * G_h_old # Linear mixing\n",
    "\n",
    "   #distance between old and new solution.\n",
    "   dist_GB = diff_modulated(G_B, G_B_old)/mix\n",
    "   dist_Gh = diff_modulated(G_B, G_B_old)/mix\n",
    "\n",
    "   if sqrt(dist_GB^2 + dist_Gh^2) < tol || iter > maxiter\n",
    "      cont = 0\n",
    "   end\n",
    "\n",
    "   if verbose && iter % (maxiter / numprint) == 0\n",
    "      #println(\"round $iter: change B $(diff(G_B_old, G_B)) change χ $(diff(G_h_old, G_h))\")\n",
    "      println(\"round $iter: change B $dist_GB change χ $dist_Gh\")\n",
    "   end\n",
    "\n",
    "   if verbose && iter % (maxiter / numprint) == 0\n",
    "      println(\"Lagrange multiplier times β: $((λ + xval)*β) and n_b - q = $(f(xval))\")\n",
    "      println(\" \")\n",
    "   end\n",
    "\n",
    "   iter += 1\n",
    "\n",
    "   flush(stdout)\n",
    "\n",
    "end\n",
    "\n",
    "print(\"done in $iter steps\")"
   ]
  },
  {
   "cell_type": "code",
   "execution_count": 64,
   "metadata": {},
   "outputs": [
    {
     "data": {
      "text/plain": [
       "0.4266237343161903"
      ]
     },
     "metadata": {},
     "output_type": "display_data"
    }
   ],
   "source": [
    "#phase shift calculation - does not seem good\n",
    "imag(log(sum(G_h)/β))/π"
   ]
  },
  {
   "cell_type": "code",
   "execution_count": 65,
   "metadata": {},
   "outputs": [
    {
     "name": "stdout",
     "output_type": "stream",
     "text": [
      "check: Σ(1)_B - Σ(2)_B 0.02273371693519352 Σ(1)_χ - Σ(2)_χ 0.06657053287482526\n"
     ]
    }
   ],
   "source": [
    "#test if the solutions work\n",
    "\n",
    "#first version of Self energies\n",
    "G_B_omega = tau2matfreq(db, G_B)\n",
    "Sigma_B_one = matfreq2tau(db, - ((1.0 ./ G_B_omega) .- db.ωn * 1im .+ λ .+ xval))\n",
    "G_h_omega = tau2matfreq(df, G_h)\n",
    "Sigma_h_one = matfreq2tau(df, - ((1.0 ./ G_h_omega) .- (- 1 ./J_K )))\n",
    "\n",
    "#conduction electron G does not change\n",
    "Sigma_B_two = - γ .* G_h .* G_c\n",
    "Sigma_h_two = G_B .* G_c_rev\n",
    "\n",
    "\n",
    "println(\"check: Σ(1)_B - Σ(2)_B $(diff_modulated(Sigma_B_two, Sigma_B_one)) Σ(1)_χ - Σ(2)_χ $(diff_modulated(Sigma_h_two, Sigma_h_one))\")"
   ]
  },
  {
   "cell_type": "code",
   "execution_count": 66,
   "metadata": {},
   "outputs": [
    {
     "data": {
      "image/png": "[encoded data removed]",
      "image/svg+xml": "<?xml version=\"1.0\" encoding=\"utf-8\"?>\n<svg xmlns=\"http://www.w3.org/2000/svg\" xmlns:xlink=\"http://www.w3.org/1999/xlink\" width=\"600\" height=\"400\" viewBox=\"0 0 2400 1600\">\n<defs>\n  <clipPath id=\"clip720\">\n    <rect x=\"0\" y=\"0\" width=\"2400\" height=\"1600\"/>\n  </clipPath>\n</defs>\n<path clip-path=\"url(#clip720)\" d=\"\nM0 1600 L2400 1600 L2400 0 L0 0  Z\n  \" fill=\"#ffffff\" fill-rule=\"evenodd\" fill-opacity=\"1\"/>\n<defs>\n  <clipPath id=\"clip721\">\n    <rect x=\"480\" y=\"0\" width=\"1681\" height=\"1600\"/>\n  </clipPath>\n</defs>\n<path clip-path=\"url(#clip720)\" d=\"\nM189.496 1486.45 L2352.76 1486.45 L2352.76 47.2441 L189.496 47.2441  Z\n  \" fill=\"#ffffff\" fill-rule=\"evenodd\" fill-opacity=\"1\"/>\n<defs>\n  <clipPath id=\"clip722\">\n    <rect x=\"189\" y=\"47\" width=\"2164\" height=\"1440\"/>\n  </clipPath>\n</defs>\n<polyline clip-path=\"url(#clip722)\" style=\"stroke:#000000; stroke-linecap:round; stroke-linejoin:round; stroke-width:2; stroke-opacity:0.1; fill:none\" points=\"\n  250.72,1486.45 250.72,47.2441 \n  \"/>\n<polyline clip-path=\"url(#clip722)\" style=\"stroke:#000000; stroke-linecap:round; stroke-linejoin:round; stroke-width:2; stroke-opacity:0.1; fill:none\" points=\"\n  760.923,1486.45 760.923,47.2441 \n  \"/>\n<polyline clip-path=\"url(#clip722)\" style=\"stroke:#000000; stroke-linecap:round; stroke-linejoin:round; stroke-width:2; stroke-opacity:0.1; fill:none\" points=\"\n  1271.13,1486.45 1271.13,47.2441 \n  \"/>\n<polyline clip-path=\"url(#clip722)\" style=\"stroke:#000000; stroke-linecap:round; stroke-linejoin:round; stroke-width:2; stroke-opacity:0.1; fill:none\" points=\"\n  1781.33,1486.45 1781.33,47.2441 \n  \"/>\n<polyline clip-path=\"url(#clip722)\" style=\"stroke:#000000; stroke-linecap:round; stroke-linejoin:round; stroke-width:2; stroke-opacity:0.1; fill:none\" points=\"\n  2291.53,1486.45 2291.53,47.2441 \n  \"/>\n<polyline clip-path=\"url(#clip720)\" style=\"stroke:#000000; stroke-linecap:round; stroke-linejoin:round; stroke-width:4; stroke-opacity:1; fill:none\" points=\"\n  189.496,1486.45 2352.76,1486.45 \n  \"/>\n<polyline clip-path=\"url(#clip720)\" style=\"stroke:#000000; stroke-linecap:round; stroke-linejoin:round; stroke-width:4; stroke-opacity:1; fill:none\" points=\"\n  250.72,1486.45 250.72,1467.55 \n  \"/>\n<polyline clip-path=\"url(#clip720)\" style=\"stroke:#000000; stroke-linecap:round; stroke-linejoin:round; stroke-width:4; stroke-opacity:1; fill:none\" points=\"\n  760.923,1486.45 760.923,1467.55 \n  \"/>\n<polyline clip-path=\"url(#clip720)\" style=\"stroke:#000000; stroke-linecap:round; stroke-linejoin:round; stroke-width:4; stroke-opacity:1; fill:none\" points=\"\n  1271.13,1486.45 1271.13,1467.55 \n  \"/>\n<polyline clip-path=\"url(#clip720)\" style=\"stroke:#000000; stroke-linecap:round; stroke-linejoin:round; stroke-width:4; stroke-opacity:1; fill:none\" points=\"\n  1781.33,1486.45 1781.33,1467.55 \n  \"/>\n<polyline clip-path=\"url(#clip720)\" style=\"stroke:#000000; stroke-linecap:round; stroke-linejoin:round; stroke-width:4; stroke-opacity:1; fill:none\" points=\"\n  2291.53,1486.45 2291.53,1467.55 \n  \"/>\n<path clip-path=\"url(#clip720)\" d=\"M250.72 1517.37 Q247.109 1517.37 245.28 1520.93 Q243.474 1524.47 243.474 1531.6 Q243.474 1538.71 245.28 1542.27 Q247.109 1545.82 250.72 1545.82 Q254.354 1545.82 256.16 1542.27 Q257.988 1538.71 257.988 1531.6 Q257.988 1524.47 256.16 1520.93 Q254.354 1517.37 250.72 1517.37 M250.72 1513.66 Q256.53 1513.66 259.585 1518.27 Q262.664 1522.85 262.664 1531.6 Q262.664 1540.33 259.585 1544.94 Q256.53 1549.52 250.72 1549.52 Q244.91 1549.52 241.831 1544.94 Q238.775 1540.33 238.775 1531.6 Q238.775 1522.85 241.831 1518.27 Q244.91 1513.66 250.72 1513.66 Z\" fill=\"#000000\" fill-rule=\"evenodd\" fill-opacity=\"1\" /><path clip-path=\"url(#clip720)\" d=\"M740.194 1544.91 L756.513 1544.91 L756.513 1548.85 L734.569 1548.85 L734.569 1544.91 Q737.231 1542.16 741.814 1537.53 Q746.421 1532.88 747.601 1531.53 Q749.846 1529.01 750.726 1527.27 Q751.629 1525.51 751.629 1523.82 Q751.629 1521.07 749.684 1519.33 Q747.763 1517.6 744.661 1517.6 Q742.462 1517.6 740.009 1518.36 Q737.578 1519.13 734.8 1520.68 L734.8 1515.95 Q737.624 1514.82 740.078 1514.24 Q742.532 1513.66 744.569 1513.66 Q749.939 1513.66 753.134 1516.35 Q756.328 1519.03 756.328 1523.52 Q756.328 1525.65 755.518 1527.57 Q754.731 1529.47 752.624 1532.07 Q752.046 1532.74 748.944 1535.95 Q745.842 1539.15 740.194 1544.91 Z\" fill=\"#000000\" fill-rule=\"evenodd\" fill-opacity=\"1\" /><path clip-path=\"url(#clip720)\" d=\"M766.374 1514.29 L784.731 1514.29 L784.731 1518.22 L770.657 1518.22 L770.657 1526.7 Q771.675 1526.35 772.694 1526.19 Q773.712 1526 774.731 1526 Q780.518 1526 783.897 1529.17 Q787.277 1532.34 787.277 1537.76 Q787.277 1543.34 783.805 1546.44 Q780.332 1549.52 774.013 1549.52 Q771.837 1549.52 769.569 1549.15 Q767.323 1548.78 764.916 1548.04 L764.916 1543.34 Q766.999 1544.47 769.221 1545.03 Q771.444 1545.58 773.92 1545.58 Q777.925 1545.58 780.263 1543.48 Q782.601 1541.37 782.601 1537.76 Q782.601 1534.15 780.263 1532.04 Q777.925 1529.94 773.92 1529.94 Q772.045 1529.94 770.17 1530.35 Q768.319 1530.77 766.374 1531.65 L766.374 1514.29 Z\" fill=\"#000000\" fill-rule=\"evenodd\" fill-opacity=\"1\" /><path clip-path=\"url(#clip720)\" d=\"M1245.83 1514.29 L1264.18 1514.29 L1264.18 1518.22 L1250.11 1518.22 L1250.11 1526.7 Q1251.13 1526.35 1252.14 1526.19 Q1253.16 1526 1254.18 1526 Q1259.97 1526 1263.35 1529.17 Q1266.73 1532.34 1266.73 1537.76 Q1266.73 1543.34 1263.26 1546.44 Q1259.78 1549.52 1253.46 1549.52 Q1251.29 1549.52 1249.02 1549.15 Q1246.77 1548.78 1244.37 1548.04 L1244.37 1543.34 Q1246.45 1544.47 1248.67 1545.03 Q1250.89 1545.58 1253.37 1545.58 Q1257.38 1545.58 1259.71 1543.48 Q1262.05 1541.37 1262.05 1537.76 Q1262.05 1534.15 1259.71 1532.04 Q1257.38 1529.94 1253.37 1529.94 Q1251.5 1529.94 1249.62 1530.35 Q1247.77 1530.77 1245.83 1531.65 L1245.83 1514.29 Z\" fill=\"#000000\" fill-rule=\"evenodd\" fill-opacity=\"1\" /><path clip-path=\"url(#clip720)\" d=\"M1285.94 1517.37 Q1282.33 1517.37 1280.5 1520.93 Q1278.7 1524.47 1278.7 1531.6 Q1278.7 1538.71 1280.5 1542.27 Q1282.33 1545.82 1285.94 1545.82 Q1289.57 1545.82 1291.38 1542.27 Q1293.21 1538.71 1293.21 1531.6 Q1293.21 1524.47 1291.38 1520.93 Q1289.57 1517.37 1285.94 1517.37 M1285.94 1513.66 Q1291.75 1513.66 1294.81 1518.27 Q1297.89 1522.85 1297.89 1531.6 Q1297.89 1540.33 1294.81 1544.94 Q1291.75 1549.52 1285.94 1549.52 Q1280.13 1549.52 1277.05 1544.94 Q1274 1540.33 1274 1531.6 Q1274 1522.85 1277.05 1518.27 Q1280.13 1513.66 1285.94 1513.66 Z\" fill=\"#000000\" fill-rule=\"evenodd\" fill-opacity=\"1\" /><path clip-path=\"url(#clip720)\" d=\"M1755.18 1514.29 L1777.41 1514.29 L1777.41 1516.28 L1764.86 1548.85 L1759.97 1548.85 L1771.78 1518.22 L1755.18 1518.22 L1755.18 1514.29 Z\" fill=\"#000000\" fill-rule=\"evenodd\" fill-opacity=\"1\" /><path clip-path=\"url(#clip720)\" d=\"M1786.57 1514.29 L1804.93 1514.29 L1804.93 1518.22 L1790.85 1518.22 L1790.85 1526.7 Q1791.87 1526.35 1792.89 1526.19 Q1793.91 1526 1794.93 1526 Q1800.72 1526 1804.1 1529.17 Q1807.47 1532.34 1807.47 1537.76 Q1807.47 1543.34 1804 1546.44 Q1800.53 1549.52 1794.21 1549.52 Q1792.03 1549.52 1789.77 1549.15 Q1787.52 1548.78 1785.11 1548.04 L1785.11 1543.34 Q1787.2 1544.47 1789.42 1545.03 Q1791.64 1545.58 1794.12 1545.58 Q1798.12 1545.58 1800.46 1543.48 Q1802.8 1541.37 1802.8 1537.76 Q1802.8 1534.15 1800.46 1532.04 Q1798.12 1529.94 1794.12 1529.94 Q1792.24 1529.94 1790.37 1530.35 Q1788.52 1530.77 1786.57 1531.65 L1786.57 1514.29 Z\" fill=\"#000000\" fill-rule=\"evenodd\" fill-opacity=\"1\" /><path clip-path=\"url(#clip720)\" d=\"M2251.14 1544.91 L2258.78 1544.91 L2258.78 1518.55 L2250.47 1520.21 L2250.47 1515.95 L2258.73 1514.29 L2263.41 1514.29 L2263.41 1544.91 L2271.05 1544.91 L2271.05 1548.85 L2251.14 1548.85 L2251.14 1544.91 Z\" fill=\"#000000\" fill-rule=\"evenodd\" fill-opacity=\"1\" /><path clip-path=\"url(#clip720)\" d=\"M2290.49 1517.37 Q2286.88 1517.37 2285.05 1520.93 Q2283.25 1524.47 2283.25 1531.6 Q2283.25 1538.71 2285.05 1542.27 Q2286.88 1545.82 2290.49 1545.82 Q2294.12 1545.82 2295.93 1542.27 Q2297.76 1538.71 2297.76 1531.6 Q2297.76 1524.47 2295.93 1520.93 Q2294.12 1517.37 2290.49 1517.37 M2290.49 1513.66 Q2296.3 1513.66 2299.36 1518.27 Q2302.43 1522.85 2302.43 1531.6 Q2302.43 1540.33 2299.36 1544.94 Q2296.3 1549.52 2290.49 1549.52 Q2284.68 1549.52 2281.6 1544.94 Q2278.55 1540.33 2278.55 1531.6 Q2278.55 1522.85 2281.6 1518.27 Q2284.68 1513.66 2290.49 1513.66 Z\" fill=\"#000000\" fill-rule=\"evenodd\" fill-opacity=\"1\" /><path clip-path=\"url(#clip720)\" d=\"M2320.65 1517.37 Q2317.04 1517.37 2315.21 1520.93 Q2313.41 1524.47 2313.41 1531.6 Q2313.41 1538.71 2315.21 1542.27 Q2317.04 1545.82 2320.65 1545.82 Q2324.29 1545.82 2326.09 1542.27 Q2327.92 1538.71 2327.92 1531.6 Q2327.92 1524.47 2326.09 1520.93 Q2324.29 1517.37 2320.65 1517.37 M2320.65 1513.66 Q2326.46 1513.66 2329.52 1518.27 Q2332.6 1522.85 2332.6 1531.6 Q2332.6 1540.33 2329.52 1544.94 Q2326.46 1549.52 2320.65 1549.52 Q2314.84 1549.52 2311.76 1544.94 Q2308.71 1540.33 2308.71 1531.6 Q2308.71 1522.85 2311.76 1518.27 Q2314.84 1513.66 2320.65 1513.66 Z\" fill=\"#000000\" fill-rule=\"evenodd\" fill-opacity=\"1\" /><polyline clip-path=\"url(#clip722)\" style=\"stroke:#000000; stroke-linecap:round; stroke-linejoin:round; stroke-width:2; stroke-opacity:0.1; fill:none\" points=\"\n  189.496,1475.79 2352.76,1475.79 \n  \"/>\n<polyline clip-path=\"url(#clip722)\" style=\"stroke:#000000; stroke-linecap:round; stroke-linejoin:round; stroke-width:2; stroke-opacity:0.1; fill:none\" points=\"\n  189.496,1081.58 2352.76,1081.58 \n  \"/>\n<polyline clip-path=\"url(#clip722)\" style=\"stroke:#000000; stroke-linecap:round; stroke-linejoin:round; stroke-width:2; stroke-opacity:0.1; fill:none\" points=\"\n  189.496,687.376 2352.76,687.376 \n  \"/>\n<polyline clip-path=\"url(#clip722)\" style=\"stroke:#000000; stroke-linecap:round; stroke-linejoin:round; stroke-width:2; stroke-opacity:0.1; fill:none\" points=\"\n  189.496,293.167 2352.76,293.167 \n  \"/>\n<polyline clip-path=\"url(#clip720)\" style=\"stroke:#000000; stroke-linecap:round; stroke-linejoin:round; stroke-width:4; stroke-opacity:1; fill:none\" points=\"\n  189.496,1486.45 189.496,47.2441 \n  \"/>\n<polyline clip-path=\"url(#clip720)\" style=\"stroke:#000000; stroke-linecap:round; stroke-linejoin:round; stroke-width:4; stroke-opacity:1; fill:none\" points=\"\n  189.496,1475.79 208.394,1475.79 \n  \"/>\n<polyline clip-path=\"url(#clip720)\" style=\"stroke:#000000; stroke-linecap:round; stroke-linejoin:round; stroke-width:4; stroke-opacity:1; fill:none\" points=\"\n  189.496,1081.58 208.394,1081.58 \n  \"/>\n<polyline clip-path=\"url(#clip720)\" style=\"stroke:#000000; stroke-linecap:round; stroke-linejoin:round; stroke-width:4; stroke-opacity:1; fill:none\" points=\"\n  189.496,687.376 208.394,687.376 \n  \"/>\n<polyline clip-path=\"url(#clip720)\" style=\"stroke:#000000; stroke-linecap:round; stroke-linejoin:round; stroke-width:4; stroke-opacity:1; fill:none\" points=\"\n  189.496,293.167 208.394,293.167 \n  \"/>\n<path clip-path=\"url(#clip720)\" d=\"M51.9267 1495.59 L59.5656 1495.59 L59.5656 1469.22 L51.2554 1470.89 L51.2554 1466.63 L59.5193 1464.96 L64.1952 1464.96 L64.1952 1495.59 L71.834 1495.59 L71.834 1499.52 L51.9267 1499.52 L51.9267 1495.59 Z\" fill=\"#000000\" fill-rule=\"evenodd\" fill-opacity=\"1\" /><path clip-path=\"url(#clip720)\" d=\"M91.2784 1468.04 Q87.6673 1468.04 85.8386 1471.6 Q84.033 1475.15 84.033 1482.28 Q84.033 1489.38 85.8386 1492.95 Q87.6673 1496.49 91.2784 1496.49 Q94.9126 1496.49 96.7182 1492.95 Q98.5468 1489.38 98.5468 1482.28 Q98.5468 1475.15 96.7182 1471.6 Q94.9126 1468.04 91.2784 1468.04 M91.2784 1464.34 Q97.0885 1464.34 100.144 1468.94 Q103.223 1473.53 103.223 1482.28 Q103.223 1491 100.144 1495.61 Q97.0885 1500.19 91.2784 1500.19 Q85.4682 1500.19 82.3895 1495.61 Q79.334 1491 79.334 1482.28 Q79.334 1473.53 82.3895 1468.94 Q85.4682 1464.34 91.2784 1464.34 Z\" fill=\"#000000\" fill-rule=\"evenodd\" fill-opacity=\"1\" /><path clip-path=\"url(#clip720)\" d=\"M103.223 1458.44 L127.334 1458.44 L127.334 1461.63 L103.223 1461.63 L103.223 1458.44 Z\" fill=\"#000000\" fill-rule=\"evenodd\" fill-opacity=\"1\" /><path clip-path=\"url(#clip720)\" d=\"M144.13 1456.56 Q141.572 1456.56 140.067 1458.31 Q138.581 1460.05 138.581 1463.1 Q138.581 1466.13 140.067 1467.9 Q141.572 1469.65 144.13 1469.65 Q146.688 1469.65 148.173 1467.9 Q149.678 1466.13 149.678 1463.1 Q149.678 1460.05 148.173 1458.31 Q146.688 1456.56 144.13 1456.56 M151.672 1444.65 L151.672 1448.11 Q150.242 1447.43 148.775 1447.08 Q147.327 1446.72 145.898 1446.72 Q142.136 1446.72 140.142 1449.26 Q138.168 1451.8 137.885 1456.93 Q138.995 1455.3 140.669 1454.43 Q142.343 1453.55 144.355 1453.55 Q148.587 1453.55 151.032 1456.12 Q153.496 1458.68 153.496 1463.1 Q153.496 1467.43 150.938 1470.04 Q148.38 1472.66 144.13 1472.66 Q139.258 1472.66 136.682 1468.93 Q134.105 1465.19 134.105 1458.1 Q134.105 1451.44 137.265 1447.49 Q140.425 1443.52 145.747 1443.52 Q147.177 1443.52 148.625 1443.8 Q150.092 1444.09 151.672 1444.65 Z\" fill=\"#000000\" fill-rule=\"evenodd\" fill-opacity=\"1\" /><path clip-path=\"url(#clip720)\" d=\"M51.6634 1101.38 L59.3023 1101.38 L59.3023 1075.01 L50.9921 1076.68 L50.9921 1072.42 L59.256 1070.75 L63.9319 1070.75 L63.9319 1101.38 L71.5707 1101.38 L71.5707 1105.31 L51.6634 1105.31 L51.6634 1101.38 Z\" fill=\"#000000\" fill-rule=\"evenodd\" fill-opacity=\"1\" /><path clip-path=\"url(#clip720)\" d=\"M91.0151 1073.83 Q87.404 1073.83 85.5753 1077.4 Q83.7697 1080.94 83.7697 1088.07 Q83.7697 1095.17 85.5753 1098.74 Q87.404 1102.28 91.0151 1102.28 Q94.6493 1102.28 96.4548 1098.74 Q98.2835 1095.17 98.2835 1088.07 Q98.2835 1080.94 96.4548 1077.4 Q94.6493 1073.83 91.0151 1073.83 M91.0151 1070.13 Q96.8252 1070.13 99.8808 1074.73 Q102.959 1079.32 102.959 1088.07 Q102.959 1096.79 99.8808 1101.4 Q96.8252 1105.98 91.0151 1105.98 Q85.2049 1105.98 82.1262 1101.4 Q79.0707 1096.79 79.0707 1088.07 Q79.0707 1079.32 82.1262 1074.73 Q85.2049 1070.13 91.0151 1070.13 Z\" fill=\"#000000\" fill-rule=\"evenodd\" fill-opacity=\"1\" /><path clip-path=\"url(#clip720)\" d=\"M102.959 1064.23 L127.071 1064.23 L127.071 1067.43 L102.959 1067.43 L102.959 1064.23 Z\" fill=\"#000000\" fill-rule=\"evenodd\" fill-opacity=\"1\" /><path clip-path=\"url(#clip720)\" d=\"M145.71 1053.13 L136.118 1068.12 L145.71 1068.12 L145.71 1053.13 M144.713 1049.82 L149.49 1049.82 L149.49 1068.12 L153.496 1068.12 L153.496 1071.28 L149.49 1071.28 L149.49 1077.9 L145.71 1077.9 L145.71 1071.28 L133.033 1071.28 L133.033 1067.61 L144.713 1049.82 Z\" fill=\"#000000\" fill-rule=\"evenodd\" fill-opacity=\"1\" /><path clip-path=\"url(#clip720)\" d=\"M53.3561 707.168 L60.995 707.168 L60.995 680.803 L52.6848 682.469 L52.6848 678.21 L60.9487 676.543 L65.6246 676.543 L65.6246 707.168 L73.2634 707.168 L73.2634 711.103 L53.3561 711.103 L53.3561 707.168 Z\" fill=\"#000000\" fill-rule=\"evenodd\" fill-opacity=\"1\" /><path clip-path=\"url(#clip720)\" d=\"M92.7078 679.622 Q89.0967 679.622 87.268 683.187 Q85.4624 686.729 85.4624 693.858 Q85.4624 700.965 87.268 704.529 Q89.0967 708.071 92.7078 708.071 Q96.342 708.071 98.1475 704.529 Q99.9762 700.965 99.9762 693.858 Q99.9762 686.729 98.1475 683.187 Q96.342 679.622 92.7078 679.622 M92.7078 675.918 Q98.5179 675.918 101.573 680.525 Q104.652 685.108 104.652 693.858 Q104.652 702.585 101.573 707.191 Q98.5179 711.775 92.7078 711.775 Q86.8976 711.775 83.8189 707.191 Q80.7634 702.585 80.7634 693.858 Q80.7634 685.108 83.8189 680.525 Q86.8976 675.918 92.7078 675.918 Z\" fill=\"#000000\" fill-rule=\"evenodd\" fill-opacity=\"1\" /><path clip-path=\"url(#clip720)\" d=\"M104.652 670.02 L128.764 670.02 L128.764 673.217 L104.652 673.217 L104.652 670.02 Z\" fill=\"#000000\" fill-rule=\"evenodd\" fill-opacity=\"1\" /><path clip-path=\"url(#clip720)\" d=\"M140.236 680.496 L153.496 680.496 L153.496 683.693 L135.666 683.693 L135.666 680.496 Q137.829 678.258 141.553 674.496 Q145.296 670.716 146.255 669.625 Q148.079 667.575 148.794 666.164 Q149.527 664.735 149.527 663.362 Q149.527 661.124 147.948 659.713 Q146.387 658.303 143.866 658.303 Q142.08 658.303 140.086 658.923 Q138.111 659.544 135.854 660.804 L135.854 656.967 Q138.149 656.046 140.142 655.575 Q142.136 655.105 143.791 655.105 Q148.155 655.105 150.75 657.287 Q153.345 659.469 153.345 663.117 Q153.345 664.848 152.687 666.409 Q152.048 667.951 150.336 670.057 Q149.866 670.603 147.346 673.217 Q144.826 675.813 140.236 680.496 Z\" fill=\"#000000\" fill-rule=\"evenodd\" fill-opacity=\"1\" /><path clip-path=\"url(#clip720)\" d=\"M82.7903 312.96 L90.4291 312.96 L90.4291 286.594 L82.119 288.261 L82.119 284.001 L90.3828 282.335 L95.0587 282.335 L95.0587 312.96 L102.698 312.96 L102.698 316.895 L82.7903 316.895 L82.7903 312.96 Z\" fill=\"#000000\" fill-rule=\"evenodd\" fill-opacity=\"1\" /><path clip-path=\"url(#clip720)\" d=\"M122.142 285.414 Q118.531 285.414 116.702 288.978 Q114.897 292.52 114.897 299.65 Q114.897 306.756 116.702 310.321 Q118.531 313.862 122.142 313.862 Q125.776 313.862 127.582 310.321 Q129.41 306.756 129.41 299.65 Q129.41 292.52 127.582 288.978 Q125.776 285.414 122.142 285.414 M122.142 281.71 Q127.952 281.71 131.008 286.316 Q134.086 290.9 134.086 299.65 Q134.086 308.376 131.008 312.983 Q127.952 317.566 122.142 317.566 Q116.332 317.566 113.253 312.983 Q110.198 308.376 110.198 299.65 Q110.198 290.9 113.253 286.316 Q116.332 281.71 122.142 281.71 Z\" fill=\"#000000\" fill-rule=\"evenodd\" fill-opacity=\"1\" /><path clip-path=\"url(#clip720)\" d=\"M143.791 263.906 Q140.857 263.906 139.371 266.802 Q137.904 269.68 137.904 275.473 Q137.904 281.247 139.371 284.143 Q140.857 287.021 143.791 287.021 Q146.744 287.021 148.211 284.143 Q149.697 281.247 149.697 275.473 Q149.697 269.68 148.211 266.802 Q146.744 263.906 143.791 263.906 M143.791 260.897 Q148.512 260.897 150.994 264.639 Q153.496 268.363 153.496 275.473 Q153.496 282.563 150.994 286.306 Q148.512 290.03 143.791 290.03 Q139.07 290.03 136.569 286.306 Q134.086 282.563 134.086 275.473 Q134.086 268.363 136.569 264.639 Q139.07 260.897 143.791 260.897 Z\" fill=\"#000000\" fill-rule=\"evenodd\" fill-opacity=\"1\" /><polyline clip-path=\"url(#clip722)\" style=\"stroke:#009af9; stroke-linecap:round; stroke-linejoin:round; stroke-width:4; stroke-opacity:1; fill:none\" points=\"\n  250.72,237.5 250.859,409.387 250.985,411.081 251.217,556.311 251.547,547.946 252.054,634.334 252.881,581.171 253.389,666.497 254.03,695.216 255.385,765.619 \n  257.58,774.756 259.103,804.636 260.915,747.402 264.892,782.933 271.11,927.893 279.064,954.122 291.499,1112.52 301.662,1125.07 314.189,1051.9 348.468,1012.57 \n  374.982,1118.18 413.839,1231.7 470.253,1120.76 537.474,1159.5 625.03,1209.35 729.27,1145.22 874.298,1174.65 1065.79,1172.12 1266.22,1199.39 1476.46,1185.92 \n  1639.06,1234.91 1812.98,1196.28 1884,1226.51 1949.88,1225.39 2052.26,1445.72 2096.03,1212 2135.64,1168.09 2185.62,1067.16 2219.84,975.08 2242.66,958.725 \n  2250.75,946.508 2259.34,985.988 2269.17,1058.12 2275.44,929.772 2279.83,791.358 2283.15,744.494 2284.45,743.904 2285.68,776.538 2287.34,857.638 2288.48,626.118 \n  2289.57,619.625 2290.31,603.572 2290.77,489.951 2291.06,498.865 2291.39,345.949 2291.49,386.117 2291.53,190.979 \n  \"/>\n<polyline clip-path=\"url(#clip722)\" style=\"stroke:#e26f46; stroke-linecap:round; stroke-linejoin:round; stroke-width:4; stroke-opacity:1; fill:none\" points=\"\n  250.72,87.9763 250.859,348.378 250.985,489.956 251.217,462.36 251.547,568.824 252.054,574.42 252.881,795.228 253.389,778.422 254.03,610.782 255.385,785.627 \n  257.58,810.661 259.103,724.254 260.915,653.859 264.892,673.526 271.11,727.872 279.064,808.644 291.499,985.977 301.662,872.094 314.189,908.871 348.468,1075.71 \n  374.982,1046.56 413.839,1127.51 470.253,1105.65 537.474,1281.42 625.03,1169.71 729.27,1160.31 874.298,1248.21 1065.79,1182.12 1266.22,1209.18 1476.46,1238.81 \n  1639.06,1207.63 1812.98,1241.35 1884,1238.18 1949.88,1309.33 2052.26,1140.1 2096.03,1238.39 2135.64,1108.97 2185.62,971.862 2219.84,896.493 2242.66,893.999 \n  2250.75,864.281 2259.34,872.232 2269.17,770.737 2275.44,729.21 2279.83,667.761 2283.15,634.046 2284.45,698.903 2285.68,742.442 2287.34,764.958 2288.48,666.565 \n  2289.57,507.901 2290.31,653.461 2290.77,440.341 2291.06,447.2 2291.39,337.818 2291.49,186.451 2291.53,105.588 \n  \"/>\n<path clip-path=\"url(#clip720)\" d=\"\nM2012.26 198.898 L2280.65 198.898 L2280.65 95.2176 L2012.26 95.2176  Z\n  \" fill=\"#ffffff\" fill-rule=\"evenodd\" fill-opacity=\"1\"/>\n<polyline clip-path=\"url(#clip720)\" style=\"stroke:#000000; stroke-linecap:round; stroke-linejoin:round; stroke-width:4; stroke-opacity:1; fill:none\" points=\"\n  2012.26,198.898 2280.65,198.898 2280.65,95.2176 2012.26,95.2176 2012.26,198.898 \n  \"/>\n<polyline clip-path=\"url(#clip720)\" style=\"stroke:#e26f46; stroke-linecap:round; stroke-linejoin:round; stroke-width:4; stroke-opacity:1; fill:none\" points=\"\n  2036.3,147.058 2180.51,147.058 \n  \"/>\n<path clip-path=\"url(#clip720)\" d=\"M2218.39 166.745 Q2216.59 171.375 2214.88 172.787 Q2213.16 174.199 2210.29 174.199 L2206.89 174.199 L2206.89 170.634 L2209.39 170.634 Q2211.15 170.634 2212.12 169.8 Q2213.09 168.967 2214.27 165.865 L2215.04 163.921 L2204.55 138.412 L2209.06 138.412 L2217.17 158.689 L2225.27 138.412 L2229.78 138.412 L2218.39 166.745 Z\" fill=\"#000000\" fill-rule=\"evenodd\" fill-opacity=\"1\" /><path clip-path=\"url(#clip720)\" d=\"M2240.29 160.402 L2256.61 160.402 L2256.61 164.338 L2234.67 164.338 L2234.67 160.402 Q2237.33 157.648 2241.91 153.018 Q2246.52 148.365 2247.7 147.023 Q2249.94 144.5 2250.82 142.764 Q2251.73 141.004 2251.73 139.315 Q2251.73 136.56 2249.78 134.824 Q2247.86 133.088 2244.76 133.088 Q2242.56 133.088 2240.11 133.852 Q2237.68 134.615 2234.9 136.166 L2234.9 131.444 Q2237.72 130.31 2240.18 129.731 Q2242.63 129.153 2244.67 129.153 Q2250.04 129.153 2253.23 131.838 Q2256.43 134.523 2256.43 139.014 Q2256.43 141.143 2255.62 143.065 Q2254.83 144.963 2252.72 147.555 Q2252.14 148.227 2249.04 151.444 Q2245.94 154.639 2240.29 160.402 Z\" fill=\"#000000\" fill-rule=\"evenodd\" fill-opacity=\"1\" /></svg>\n",
      "text/html": [
       "<?xml version=\"1.0\" encoding=\"utf-8\"?>\n",
       "<svg xmlns=\"http://www.w3.org/2000/svg\" xmlns:xlink=\"http://www.w3.org/1999/xlink\" width=\"600\" height=\"400\" viewBox=\"0 0 2400 1600\">\n",
       "<defs>\n",
       "  <clipPath id=\"clip770\">\n",
       "    <rect x=\"0\" y=\"0\" width=\"2400\" height=\"1600\"/>\n",
       "  </clipPath>\n",
       "</defs>\n",
       "<path clip-path=\"url(#clip770)\" d=\"\n",
       "M0 1600 L2400 1600 L2400 0 L0 0  Z\n",
       "  \" fill=\"#ffffff\" fill-rule=\"evenodd\" fill-opacity=\"1\"/>\n",
       "<defs>\n",
       "  <clipPath id=\"clip771\">\n",
       "    <rect x=\"480\" y=\"0\" width=\"1681\" height=\"1600\"/>\n",
       "  </clipPath>\n",
       "</defs>\n",
       "<path clip-path=\"url(#clip770)\" d=\"\n",
       "M189.496 1486.45 L2352.76 1486.45 L2352.76 47.2441 L189.496 47.2441  Z\n",
       "  \" fill=\"#ffffff\" fill-rule=\"evenodd\" fill-opacity=\"1\"/>\n",
       "<defs>\n",
       "  <clipPath id=\"clip772\">\n",
       "    <rect x=\"189\" y=\"47\" width=\"2164\" height=\"1440\"/>\n",
       "  </clipPath>\n",
       "</defs>\n",
       "<polyline clip-path=\"url(#clip772)\" style=\"stroke:#000000; stroke-linecap:round; stroke-linejoin:round; stroke-width:2; stroke-opacity:0.1; fill:none\" points=\"\n",
       "  250.72,1486.45 250.72,47.2441 \n",
       "  \"/>\n",
       "<polyline clip-path=\"url(#clip772)\" style=\"stroke:#000000; stroke-linecap:round; stroke-linejoin:round; stroke-width:2; stroke-opacity:0.1; fill:none\" points=\"\n",
       "  760.923,1486.45 760.923,47.2441 \n",
       "  \"/>\n",
       "<polyline clip-path=\"url(#clip772)\" style=\"stroke:#000000; stroke-linecap:round; stroke-linejoin:round; stroke-width:2; stroke-opacity:0.1; fill:none\" points=\"\n",
       "  1271.13,1486.45 1271.13,47.2441 \n",
       "  \"/>\n",
       "<polyline clip-path=\"url(#clip772)\" style=\"stroke:#000000; stroke-linecap:round; stroke-linejoin:round; stroke-width:2; stroke-opacity:0.1; fill:none\" points=\"\n",
       "  1781.33,1486.45 1781.33,47.2441 \n",
       "  \"/>\n",
       "<polyline clip-path=\"url(#clip772)\" style=\"stroke:#000000; stroke-linecap:round; stroke-linejoin:round; stroke-width:2; stroke-opacity:0.1; fill:none\" points=\"\n",
       "  2291.53,1486.45 2291.53,47.2441 \n",
       "  \"/>\n",
       "<polyline clip-path=\"url(#clip770)\" style=\"stroke:#000000; stroke-linecap:round; stroke-linejoin:round; stroke-width:4; stroke-opacity:1; fill:none\" points=\"\n",
       "  189.496,1486.45 2352.76,1486.45 \n",
       "  \"/>\n",
       "<polyline clip-path=\"url(#clip770)\" style=\"stroke:#000000; stroke-linecap:round; stroke-linejoin:round; stroke-width:4; stroke-opacity:1; fill:none\" points=\"\n",
       "  250.72,1486.45 250.72,1467.55 \n",
       "  \"/>\n",
       "<polyline clip-path=\"url(#clip770)\" style=\"stroke:#000000; stroke-linecap:round; stroke-linejoin:round; stroke-width:4; stroke-opacity:1; fill:none\" points=\"\n",
       "  760.923,1486.45 760.923,1467.55 \n",
       "  \"/>\n",
       "<polyline clip-path=\"url(#clip770)\" style=\"stroke:#000000; stroke-linecap:round; stroke-linejoin:round; stroke-width:4; stroke-opacity:1; fill:none\" points=\"\n",
       "  1271.13,1486.45 1271.13,1467.55 \n",
       "  \"/>\n",
       "<polyline clip-path=\"url(#clip770)\" style=\"stroke:#000000; stroke-linecap:round; stroke-linejoin:round; stroke-width:4; stroke-opacity:1; fill:none\" points=\"\n",
       "  1781.33,1486.45 1781.33,1467.55 \n",
       "  \"/>\n",
       "<polyline clip-path=\"url(#clip770)\" style=\"stroke:#000000; stroke-linecap:round; stroke-linejoin:round; stroke-width:4; stroke-opacity:1; fill:none\" points=\"\n",
       "  2291.53,1486.45 2291.53,1467.55 \n",
       "  \"/>\n",
       "<path clip-path=\"url(#clip770)\" d=\"M250.72 1517.37 Q247.109 1517.37 245.28 1520.93 Q243.474 1524.47 243.474 1531.6 Q243.474 1538.71 245.28 1542.27 Q247.109 1545.82 250.72 1545.82 Q254.354 1545.82 256.16 1542.27 Q257.988 1538.71 257.988 1531.6 Q257.988 1524.47 256.16 1520.93 Q254.354 1517.37 250.72 1517.37 M250.72 1513.66 Q256.53 1513.66 259.585 1518.27 Q262.664 1522.85 262.664 1531.6 Q262.664 1540.33 259.585 1544.94 Q256.53 1549.52 250.72 1549.52 Q244.91 1549.52 241.831 1544.94 Q238.775 1540.33 238.775 1531.6 Q238.775 1522.85 241.831 1518.27 Q244.91 1513.66 250.72 1513.66 Z\" fill=\"#000000\" fill-rule=\"evenodd\" fill-opacity=\"1\" /><path clip-path=\"url(#clip770)\" d=\"M740.194 1544.91 L756.513 1544.91 L756.513 1548.85 L734.569 1548.85 L734.569 1544.91 Q737.231 1542.16 741.814 1537.53 Q746.421 1532.88 747.601 1531.53 Q749.846 1529.01 750.726 1527.27 Q751.629 1525.51 751.629 1523.82 Q751.629 1521.07 749.684 1519.33 Q747.763 1517.6 744.661 1517.6 Q742.462 1517.6 740.009 1518.36 Q737.578 1519.13 734.8 1520.68 L734.8 1515.95 Q737.624 1514.82 740.078 1514.24 Q742.532 1513.66 744.569 1513.66 Q749.939 1513.66 753.134 1516.35 Q756.328 1519.03 756.328 1523.52 Q756.328 1525.65 755.518 1527.57 Q754.731 1529.47 752.624 1532.07 Q752.046 1532.74 748.944 1535.95 Q745.842 1539.15 740.194 1544.91 Z\" fill=\"#000000\" fill-rule=\"evenodd\" fill-opacity=\"1\" /><path clip-path=\"url(#clip770)\" d=\"M766.374 1514.29 L784.731 1514.29 L784.731 1518.22 L770.657 1518.22 L770.657 1526.7 Q771.675 1526.35 772.694 1526.19 Q773.712 1526 774.731 1526 Q780.518 1526 783.897 1529.17 Q787.277 1532.34 787.277 1537.76 Q787.277 1543.34 783.805 1546.44 Q780.332 1549.52 774.013 1549.52 Q771.837 1549.52 769.569 1549.15 Q767.323 1548.78 764.916 1548.04 L764.916 1543.34 Q766.999 1544.47 769.221 1545.03 Q771.444 1545.58 773.92 1545.58 Q777.925 1545.58 780.263 1543.48 Q782.601 1541.37 782.601 1537.76 Q782.601 1534.15 780.263 1532.04 Q777.925 1529.94 773.92 1529.94 Q772.045 1529.94 770.17 1530.35 Q768.319 1530.77 766.374 1531.65 L766.374 1514.29 Z\" fill=\"#000000\" fill-rule=\"evenodd\" fill-opacity=\"1\" /><path clip-path=\"url(#clip770)\" d=\"M1245.83 1514.29 L1264.18 1514.29 L1264.18 1518.22 L1250.11 1518.22 L1250.11 1526.7 Q1251.13 1526.35 1252.14 1526.19 Q1253.16 1526 1254.18 1526 Q1259.97 1526 1263.35 1529.17 Q1266.73 1532.34 1266.73 1537.76 Q1266.73 1543.34 1263.26 1546.44 Q1259.78 1549.52 1253.46 1549.52 Q1251.29 1549.52 1249.02 1549.15 Q1246.77 1548.78 1244.37 1548.04 L1244.37 1543.34 Q1246.45 1544.47 1248.67 1545.03 Q1250.89 1545.58 1253.37 1545.58 Q1257.38 1545.58 1259.71 1543.48 Q1262.05 1541.37 1262.05 1537.76 Q1262.05 1534.15 1259.71 1532.04 Q1257.38 1529.94 1253.37 1529.94 Q1251.5 1529.94 1249.62 1530.35 Q1247.77 1530.77 1245.83 1531.65 L1245.83 1514.29 Z\" fill=\"#000000\" fill-rule=\"evenodd\" fill-opacity=\"1\" /><path clip-path=\"url(#clip770)\" d=\"M1285.94 1517.37 Q1282.33 1517.37 1280.5 1520.93 Q1278.7 1524.47 1278.7 1531.6 Q1278.7 1538.71 1280.5 1542.27 Q1282.33 1545.82 1285.94 1545.82 Q1289.57 1545.82 1291.38 1542.27 Q1293.21 1538.71 1293.21 1531.6 Q1293.21 1524.47 1291.38 1520.93 Q1289.57 1517.37 1285.94 1517.37 M1285.94 1513.66 Q1291.75 1513.66 1294.81 1518.27 Q1297.89 1522.85 1297.89 1531.6 Q1297.89 1540.33 1294.81 1544.94 Q1291.75 1549.52 1285.94 1549.52 Q1280.13 1549.52 1277.05 1544.94 Q1274 1540.33 1274 1531.6 Q1274 1522.85 1277.05 1518.27 Q1280.13 1513.66 1285.94 1513.66 Z\" fill=\"#000000\" fill-rule=\"evenodd\" fill-opacity=\"1\" /><path clip-path=\"url(#clip770)\" d=\"M1755.18 1514.29 L1777.41 1514.29 L1777.41 1516.28 L1764.86 1548.85 L1759.97 1548.85 L1771.78 1518.22 L1755.18 1518.22 L1755.18 1514.29 Z\" fill=\"#000000\" fill-rule=\"evenodd\" fill-opacity=\"1\" /><path clip-path=\"url(#clip770)\" d=\"M1786.57 1514.29 L1804.93 1514.29 L1804.93 1518.22 L1790.85 1518.22 L1790.85 1526.7 Q1791.87 1526.35 1792.89 1526.19 Q1793.91 1526 1794.93 1526 Q1800.72 1526 1804.1 1529.17 Q1807.47 1532.34 1807.47 1537.76 Q1807.47 1543.34 1804 1546.44 Q1800.53 1549.52 1794.21 1549.52 Q1792.03 1549.52 1789.77 1549.15 Q1787.52 1548.78 1785.11 1548.04 L1785.11 1543.34 Q1787.2 1544.47 1789.42 1545.03 Q1791.64 1545.58 1794.12 1545.58 Q1798.12 1545.58 1800.46 1543.48 Q1802.8 1541.37 1802.8 1537.76 Q1802.8 1534.15 1800.46 1532.04 Q1798.12 1529.94 1794.12 1529.94 Q1792.24 1529.94 1790.37 1530.35 Q1788.52 1530.77 1786.57 1531.65 L1786.57 1514.29 Z\" fill=\"#000000\" fill-rule=\"evenodd\" fill-opacity=\"1\" /><path clip-path=\"url(#clip770)\" d=\"M2251.14 1544.91 L2258.78 1544.91 L2258.78 1518.55 L2250.47 1520.21 L2250.47 1515.95 L2258.73 1514.29 L2263.41 1514.29 L2263.41 1544.91 L2271.05 1544.91 L2271.05 1548.85 L2251.14 1548.85 L2251.14 1544.91 Z\" fill=\"#000000\" fill-rule=\"evenodd\" fill-opacity=\"1\" /><path clip-path=\"url(#clip770)\" d=\"M2290.49 1517.37 Q2286.88 1517.37 2285.05 1520.93 Q2283.25 1524.47 2283.25 1531.6 Q2283.25 1538.71 2285.05 1542.27 Q2286.88 1545.82 2290.49 1545.82 Q2294.12 1545.82 2295.93 1542.27 Q2297.76 1538.71 2297.76 1531.6 Q2297.76 1524.47 2295.93 1520.93 Q2294.12 1517.37 2290.49 1517.37 M2290.49 1513.66 Q2296.3 1513.66 2299.36 1518.27 Q2302.43 1522.85 2302.43 1531.6 Q2302.43 1540.33 2299.36 1544.94 Q2296.3 1549.52 2290.49 1549.52 Q2284.68 1549.52 2281.6 1544.94 Q2278.55 1540.33 2278.55 1531.6 Q2278.55 1522.85 2281.6 1518.27 Q2284.68 1513.66 2290.49 1513.66 Z\" fill=\"#000000\" fill-rule=\"evenodd\" fill-opacity=\"1\" /><path clip-path=\"url(#clip770)\" d=\"M2320.65 1517.37 Q2317.04 1517.37 2315.21 1520.93 Q2313.41 1524.47 2313.41 1531.6 Q2313.41 1538.71 2315.21 1542.27 Q2317.04 1545.82 2320.65 1545.82 Q2324.29 1545.82 2326.09 1542.27 Q2327.92 1538.71 2327.92 1531.6 Q2327.92 1524.47 2326.09 1520.93 Q2324.29 1517.37 2320.65 1517.37 M2320.65 1513.66 Q2326.46 1513.66 2329.52 1518.27 Q2332.6 1522.85 2332.6 1531.6 Q2332.6 1540.33 2329.52 1544.94 Q2326.46 1549.52 2320.65 1549.52 Q2314.84 1549.52 2311.76 1544.94 Q2308.71 1540.33 2308.71 1531.6 Q2308.71 1522.85 2311.76 1518.27 Q2314.84 1513.66 2320.65 1513.66 Z\" fill=\"#000000\" fill-rule=\"evenodd\" fill-opacity=\"1\" /><polyline clip-path=\"url(#clip772)\" style=\"stroke:#000000; stroke-linecap:round; stroke-linejoin:round; stroke-width:2; stroke-opacity:0.1; fill:none\" points=\"\n",
       "  189.496,1475.79 2352.76,1475.79 \n",
       "  \"/>\n",
       "<polyline clip-path=\"url(#clip772)\" style=\"stroke:#000000; stroke-linecap:round; stroke-linejoin:round; stroke-width:2; stroke-opacity:0.1; fill:none\" points=\"\n",
       "  189.496,1081.58 2352.76,1081.58 \n",
       "  \"/>\n",
       "<polyline clip-path=\"url(#clip772)\" style=\"stroke:#000000; stroke-linecap:round; stroke-linejoin:round; stroke-width:2; stroke-opacity:0.1; fill:none\" points=\"\n",
       "  189.496,687.376 2352.76,687.376 \n",
       "  \"/>\n",
       "<polyline clip-path=\"url(#clip772)\" style=\"stroke:#000000; stroke-linecap:round; stroke-linejoin:round; stroke-width:2; stroke-opacity:0.1; fill:none\" points=\"\n",
       "  189.496,293.167 2352.76,293.167 \n",
       "  \"/>\n",
       "<polyline clip-path=\"url(#clip770)\" style=\"stroke:#000000; stroke-linecap:round; stroke-linejoin:round; stroke-width:4; stroke-opacity:1; fill:none\" points=\"\n",
       "  189.496,1486.45 189.496,47.2441 \n",
       "  \"/>\n",
       "<polyline clip-path=\"url(#clip770)\" style=\"stroke:#000000; stroke-linecap:round; stroke-linejoin:round; stroke-width:4; stroke-opacity:1; fill:none\" points=\"\n",
       "  189.496,1475.79 208.394,1475.79 \n",
       "  \"/>\n",
       "<polyline clip-path=\"url(#clip770)\" style=\"stroke:#000000; stroke-linecap:round; stroke-linejoin:round; stroke-width:4; stroke-opacity:1; fill:none\" points=\"\n",
       "  189.496,1081.58 208.394,1081.58 \n",
       "  \"/>\n",
       "<polyline clip-path=\"url(#clip770)\" style=\"stroke:#000000; stroke-linecap:round; stroke-linejoin:round; stroke-width:4; stroke-opacity:1; fill:none\" points=\"\n",
       "  189.496,687.376 208.394,687.376 \n",
       "  \"/>\n",
       "<polyline clip-path=\"url(#clip770)\" style=\"stroke:#000000; stroke-linecap:round; stroke-linejoin:round; stroke-width:4; stroke-opacity:1; fill:none\" points=\"\n",
       "  189.496,293.167 208.394,293.167 \n",
       "  \"/>\n",
       "<path clip-path=\"url(#clip770)\" d=\"M51.9267 1495.59 L59.5656 1495.59 L59.5656 1469.22 L51.2554 1470.89 L51.2554 1466.63 L59.5193 1464.96 L64.1952 1464.96 L64.1952 1495.59 L71.834 1495.59 L71.834 1499.52 L51.9267 1499.52 L51.9267 1495.59 Z\" fill=\"#000000\" fill-rule=\"evenodd\" fill-opacity=\"1\" /><path clip-path=\"url(#clip770)\" d=\"M91.2784 1468.04 Q87.6673 1468.04 85.8386 1471.6 Q84.033 1475.15 84.033 1482.28 Q84.033 1489.38 85.8386 1492.95 Q87.6673 1496.49 91.2784 1496.49 Q94.9126 1496.49 96.7182 1492.95 Q98.5468 1489.38 98.5468 1482.28 Q98.5468 1475.15 96.7182 1471.6 Q94.9126 1468.04 91.2784 1468.04 M91.2784 1464.34 Q97.0885 1464.34 100.144 1468.94 Q103.223 1473.53 103.223 1482.28 Q103.223 1491 100.144 1495.61 Q97.0885 1500.19 91.2784 1500.19 Q85.4682 1500.19 82.3895 1495.61 Q79.334 1491 79.334 1482.28 Q79.334 1473.53 82.3895 1468.94 Q85.4682 1464.34 91.2784 1464.34 Z\" fill=\"#000000\" fill-rule=\"evenodd\" fill-opacity=\"1\" /><path clip-path=\"url(#clip770)\" d=\"M103.223 1458.44 L127.334 1458.44 L127.334 1461.63 L103.223 1461.63 L103.223 1458.44 Z\" fill=\"#000000\" fill-rule=\"evenodd\" fill-opacity=\"1\" /><path clip-path=\"url(#clip770)\" d=\"M144.13 1456.56 Q141.572 1456.56 140.067 1458.31 Q138.581 1460.05 138.581 1463.1 Q138.581 1466.13 140.067 1467.9 Q141.572 1469.65 144.13 1469.65 Q146.688 1469.65 148.173 1467.9 Q149.678 1466.13 149.678 1463.1 Q149.678 1460.05 148.173 1458.31 Q146.688 1456.56 144.13 1456.56 M151.672 1444.65 L151.672 1448.11 Q150.242 1447.43 148.775 1447.08 Q147.327 1446.72 145.898 1446.72 Q142.136 1446.72 140.142 1449.26 Q138.168 1451.8 137.885 1456.93 Q138.995 1455.3 140.669 1454.43 Q142.343 1453.55 144.355 1453.55 Q148.587 1453.55 151.032 1456.12 Q153.496 1458.68 153.496 1463.1 Q153.496 1467.43 150.938 1470.04 Q148.38 1472.66 144.13 1472.66 Q139.258 1472.66 136.682 1468.93 Q134.105 1465.19 134.105 1458.1 Q134.105 1451.44 137.265 1447.49 Q140.425 1443.52 145.747 1443.52 Q147.177 1443.52 148.625 1443.8 Q150.092 1444.09 151.672 1444.65 Z\" fill=\"#000000\" fill-rule=\"evenodd\" fill-opacity=\"1\" /><path clip-path=\"url(#clip770)\" d=\"M51.6634 1101.38 L59.3023 1101.38 L59.3023 1075.01 L50.9921 1076.68 L50.9921 1072.42 L59.256 1070.75 L63.9319 1070.75 L63.9319 1101.38 L71.5707 1101.38 L71.5707 1105.31 L51.6634 1105.31 L51.6634 1101.38 Z\" fill=\"#000000\" fill-rule=\"evenodd\" fill-opacity=\"1\" /><path clip-path=\"url(#clip770)\" d=\"M91.0151 1073.83 Q87.404 1073.83 85.5753 1077.4 Q83.7697 1080.94 83.7697 1088.07 Q83.7697 1095.17 85.5753 1098.74 Q87.404 1102.28 91.0151 1102.28 Q94.6493 1102.28 96.4548 1098.74 Q98.2835 1095.17 98.2835 1088.07 Q98.2835 1080.94 96.4548 1077.4 Q94.6493 1073.83 91.0151 1073.83 M91.0151 1070.13 Q96.8252 1070.13 99.8808 1074.73 Q102.959 1079.32 102.959 1088.07 Q102.959 1096.79 99.8808 1101.4 Q96.8252 1105.98 91.0151 1105.98 Q85.2049 1105.98 82.1262 1101.4 Q79.0707 1096.79 79.0707 1088.07 Q79.0707 1079.32 82.1262 1074.73 Q85.2049 1070.13 91.0151 1070.13 Z\" fill=\"#000000\" fill-rule=\"evenodd\" fill-opacity=\"1\" /><path clip-path=\"url(#clip770)\" d=\"M102.959 1064.23 L127.071 1064.23 L127.071 1067.43 L102.959 1067.43 L102.959 1064.23 Z\" fill=\"#000000\" fill-rule=\"evenodd\" fill-opacity=\"1\" /><path clip-path=\"url(#clip770)\" d=\"M145.71 1053.13 L136.118 1068.12 L145.71 1068.12 L145.71 1053.13 M144.713 1049.82 L149.49 1049.82 L149.49 1068.12 L153.496 1068.12 L153.496 1071.28 L149.49 1071.28 L149.49 1077.9 L145.71 1077.9 L145.71 1071.28 L133.033 1071.28 L133.033 1067.61 L144.713 1049.82 Z\" fill=\"#000000\" fill-rule=\"evenodd\" fill-opacity=\"1\" /><path clip-path=\"url(#clip770)\" d=\"M53.3561 707.168 L60.995 707.168 L60.995 680.803 L52.6848 682.469 L52.6848 678.21 L60.9487 676.543 L65.6246 676.543 L65.6246 707.168 L73.2634 707.168 L73.2634 711.103 L53.3561 711.103 L53.3561 707.168 Z\" fill=\"#000000\" fill-rule=\"evenodd\" fill-opacity=\"1\" /><path clip-path=\"url(#clip770)\" d=\"M92.7078 679.622 Q89.0967 679.622 87.268 683.187 Q85.4624 686.729 85.4624 693.858 Q85.4624 700.965 87.268 704.529 Q89.0967 708.071 92.7078 708.071 Q96.342 708.071 98.1475 704.529 Q99.9762 700.965 99.9762 693.858 Q99.9762 686.729 98.1475 683.187 Q96.342 679.622 92.7078 679.622 M92.7078 675.918 Q98.5179 675.918 101.573 680.525 Q104.652 685.108 104.652 693.858 Q104.652 702.585 101.573 707.191 Q98.5179 711.775 92.7078 711.775 Q86.8976 711.775 83.8189 707.191 Q80.7634 702.585 80.7634 693.858 Q80.7634 685.108 83.8189 680.525 Q86.8976 675.918 92.7078 675.918 Z\" fill=\"#000000\" fill-rule=\"evenodd\" fill-opacity=\"1\" /><path clip-path=\"url(#clip770)\" d=\"M104.652 670.02 L128.764 670.02 L128.764 673.217 L104.652 673.217 L104.652 670.02 Z\" fill=\"#000000\" fill-rule=\"evenodd\" fill-opacity=\"1\" /><path clip-path=\"url(#clip770)\" d=\"M140.236 680.496 L153.496 680.496 L153.496 683.693 L135.666 683.693 L135.666 680.496 Q137.829 678.258 141.553 674.496 Q145.296 670.716 146.255 669.625 Q148.079 667.575 148.794 666.164 Q149.527 664.735 149.527 663.362 Q149.527 661.124 147.948 659.713 Q146.387 658.303 143.866 658.303 Q142.08 658.303 140.086 658.923 Q138.111 659.544 135.854 660.804 L135.854 656.967 Q138.149 656.046 140.142 655.575 Q142.136 655.105 143.791 655.105 Q148.155 655.105 150.75 657.287 Q153.345 659.469 153.345 663.117 Q153.345 664.848 152.687 666.409 Q152.048 667.951 150.336 670.057 Q149.866 670.603 147.346 673.217 Q144.826 675.813 140.236 680.496 Z\" fill=\"#000000\" fill-rule=\"evenodd\" fill-opacity=\"1\" /><path clip-path=\"url(#clip770)\" d=\"M82.7903 312.96 L90.4291 312.96 L90.4291 286.594 L82.119 288.261 L82.119 284.001 L90.3828 282.335 L95.0587 282.335 L95.0587 312.96 L102.698 312.96 L102.698 316.895 L82.7903 316.895 L82.7903 312.96 Z\" fill=\"#000000\" fill-rule=\"evenodd\" fill-opacity=\"1\" /><path clip-path=\"url(#clip770)\" d=\"M122.142 285.414 Q118.531 285.414 116.702 288.978 Q114.897 292.52 114.897 299.65 Q114.897 306.756 116.702 310.321 Q118.531 313.862 122.142 313.862 Q125.776 313.862 127.582 310.321 Q129.41 306.756 129.41 299.65 Q129.41 292.52 127.582 288.978 Q125.776 285.414 122.142 285.414 M122.142 281.71 Q127.952 281.71 131.008 286.316 Q134.086 290.9 134.086 299.65 Q134.086 308.376 131.008 312.983 Q127.952 317.566 122.142 317.566 Q116.332 317.566 113.253 312.983 Q110.198 308.376 110.198 299.65 Q110.198 290.9 113.253 286.316 Q116.332 281.71 122.142 281.71 Z\" fill=\"#000000\" fill-rule=\"evenodd\" fill-opacity=\"1\" /><path clip-path=\"url(#clip770)\" d=\"M143.791 263.906 Q140.857 263.906 139.371 266.802 Q137.904 269.68 137.904 275.473 Q137.904 281.247 139.371 284.143 Q140.857 287.021 143.791 287.021 Q146.744 287.021 148.211 284.143 Q149.697 281.247 149.697 275.473 Q149.697 269.68 148.211 266.802 Q146.744 263.906 143.791 263.906 M143.791 260.897 Q148.512 260.897 150.994 264.639 Q153.496 268.363 153.496 275.473 Q153.496 282.563 150.994 286.306 Q148.512 290.03 143.791 290.03 Q139.07 290.03 136.569 286.306 Q134.086 282.563 134.086 275.473 Q134.086 268.363 136.569 264.639 Q139.07 260.897 143.791 260.897 Z\" fill=\"#000000\" fill-rule=\"evenodd\" fill-opacity=\"1\" /><polyline clip-path=\"url(#clip772)\" style=\"stroke:#009af9; stroke-linecap:round; stroke-linejoin:round; stroke-width:4; stroke-opacity:1; fill:none\" points=\"\n",
       "  250.72,237.5 250.859,409.387 250.985,411.081 251.217,556.311 251.547,547.946 252.054,634.334 252.881,581.171 253.389,666.497 254.03,695.216 255.385,765.619 \n",
       "  257.58,774.756 259.103,804.636 260.915,747.402 264.892,782.933 271.11,927.893 279.064,954.122 291.499,1112.52 301.662,1125.07 314.189,1051.9 348.468,1012.57 \n",
       "  374.982,1118.18 413.839,1231.7 470.253,1120.76 537.474,1159.5 625.03,1209.35 729.27,1145.22 874.298,1174.65 1065.79,1172.12 1266.22,1199.39 1476.46,1185.92 \n",
       "  1639.06,1234.91 1812.98,1196.28 1884,1226.51 1949.88,1225.39 2052.26,1445.72 2096.03,1212 2135.64,1168.09 2185.62,1067.16 2219.84,975.08 2242.66,958.725 \n",
       "  2250.75,946.508 2259.34,985.988 2269.17,1058.12 2275.44,929.772 2279.83,791.358 2283.15,744.494 2284.45,743.904 2285.68,776.538 2287.34,857.638 2288.48,626.118 \n",
       "  2289.57,619.625 2290.31,603.572 2290.77,489.951 2291.06,498.865 2291.39,345.949 2291.49,386.117 2291.53,190.979 \n",
       "  \"/>\n",
       "<polyline clip-path=\"url(#clip772)\" style=\"stroke:#e26f46; stroke-linecap:round; stroke-linejoin:round; stroke-width:4; stroke-opacity:1; fill:none\" points=\"\n",
       "  250.72,87.9763 250.859,348.378 250.985,489.956 251.217,462.36 251.547,568.824 252.054,574.42 252.881,795.228 253.389,778.422 254.03,610.782 255.385,785.627 \n",
       "  257.58,810.661 259.103,724.254 260.915,653.859 264.892,673.526 271.11,727.872 279.064,808.644 291.499,985.977 301.662,872.094 314.189,908.871 348.468,1075.71 \n",
       "  374.982,1046.56 413.839,1127.51 470.253,1105.65 537.474,1281.42 625.03,1169.71 729.27,1160.31 874.298,1248.21 1065.79,1182.12 1266.22,1209.18 1476.46,1238.81 \n",
       "  1639.06,1207.63 1812.98,1241.35 1884,1238.18 1949.88,1309.33 2052.26,1140.1 2096.03,1238.39 2135.64,1108.97 2185.62,971.862 2219.84,896.493 2242.66,893.999 \n",
       "  2250.75,864.281 2259.34,872.232 2269.17,770.737 2275.44,729.21 2279.83,667.761 2283.15,634.046 2284.45,698.903 2285.68,742.442 2287.34,764.958 2288.48,666.565 \n",
       "  2289.57,507.901 2290.31,653.461 2290.77,440.341 2291.06,447.2 2291.39,337.818 2291.49,186.451 2291.53,105.588 \n",
       "  \"/>\n",
       "<path clip-path=\"url(#clip770)\" d=\"\n",
       "M2012.26 198.898 L2280.65 198.898 L2280.65 95.2176 L2012.26 95.2176  Z\n",
       "  \" fill=\"#ffffff\" fill-rule=\"evenodd\" fill-opacity=\"1\"/>\n",
       "<polyline clip-path=\"url(#clip770)\" style=\"stroke:#000000; stroke-linecap:round; stroke-linejoin:round; stroke-width:4; stroke-opacity:1; fill:none\" points=\"\n",
       "  2012.26,198.898 2280.65,198.898 2280.65,95.2176 2012.26,95.2176 2012.26,198.898 \n",
       "  \"/>\n",
       "<polyline clip-path=\"url(#clip770)\" style=\"stroke:#e26f46; stroke-linecap:round; stroke-linejoin:round; stroke-width:4; stroke-opacity:1; fill:none\" points=\"\n",
       "  2036.3,147.058 2180.51,147.058 \n",
       "  \"/>\n",
       "<path clip-path=\"url(#clip770)\" d=\"M2218.39 166.745 Q2216.59 171.375 2214.88 172.787 Q2213.16 174.199 2210.29 174.199 L2206.89 174.199 L2206.89 170.634 L2209.39 170.634 Q2211.15 170.634 2212.12 169.8 Q2213.09 168.967 2214.27 165.865 L2215.04 163.921 L2204.55 138.412 L2209.06 138.412 L2217.17 158.689 L2225.27 138.412 L2229.78 138.412 L2218.39 166.745 Z\" fill=\"#000000\" fill-rule=\"evenodd\" fill-opacity=\"1\" /><path clip-path=\"url(#clip770)\" d=\"M2240.29 160.402 L2256.61 160.402 L2256.61 164.338 L2234.67 164.338 L2234.67 160.402 Q2237.33 157.648 2241.91 153.018 Q2246.52 148.365 2247.7 147.023 Q2249.94 144.5 2250.82 142.764 Q2251.73 141.004 2251.73 139.315 Q2251.73 136.56 2249.78 134.824 Q2247.86 133.088 2244.76 133.088 Q2242.56 133.088 2240.11 133.852 Q2237.68 134.615 2234.9 136.166 L2234.9 131.444 Q2237.72 130.31 2240.18 129.731 Q2242.63 129.153 2244.67 129.153 Q2250.04 129.153 2253.23 131.838 Q2256.43 134.523 2256.43 139.014 Q2256.43 141.143 2255.62 143.065 Q2254.83 144.963 2252.72 147.555 Q2252.14 148.227 2249.04 151.444 Q2245.94 154.639 2240.29 160.402 Z\" fill=\"#000000\" fill-rule=\"evenodd\" fill-opacity=\"1\" /></svg>\n"
      ]
     },
     "metadata": {},
     "output_type": "display_data"
    }
   ],
   "source": [
    "using Plots\n",
    "plot(db.τ, abs.(imag(Sigma_B_one) - imag(Sigma_B_two)), yscale=:log10, label=\"\")\n",
    "plot!(db.τ, abs.(real(Sigma_B_one) - real(Sigma_B_two)), yscale=:log10)"
   ]
  }
 ],
 "metadata": {
  "kernelspec": {
   "display_name": "Julia 1.8.3",
   "language": "julia",
   "name": "julia-1.8"
  },
  "language_info": {
   "file_extension": ".jl",
   "mimetype": "application/julia",
   "name": "julia",
   "version": "1.8.3"
  },
  "vscode": {
   "interpreter": {
    "hash": "31f2aee4e71d21fbe5cf8b01ff0e069b9275f58929596ceb00d14d90e3e16cd6"
   }
  }
 },
 "nbformat": 4,
 "nbformat_minor": 4
}
