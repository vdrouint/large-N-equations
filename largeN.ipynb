{
 "cells": [
  {
   "cell_type": "code",
   "execution_count": 10,
   "metadata": {},
   "outputs": [
    {
     "name": "stdout",
     "output_type": "stream",
     "text": [
      "round 500: change 21.31732335603535\n",
      "round 1000: change 21.31732437939924\n",
      "round 1500: change 21.317324005639605\n",
      "round 2000: change 21.3173233821124\n",
      "round 2500: change 21.3173230639588\n",
      "round 3000: change 21.31732431869902\n",
      "round 3500: change 21.317324879469616\n",
      "round 4000: change 21.317323952906175\n",
      "round 4500: change 21.31732481388443\n",
      "round 5000: change 21.31732499688961\n"
     ]
    }
   ],
   "source": [
    "\"\"\"\n",
    "use the Lehman rep package for fast fourier transforms\n",
    "solve the self-consistent equations directly at very low temperatures\n",
    "\n",
    "A large-N Schwinger boson solver based on a forward fixed-point iteration method.\n",
    "\n",
    " The self-energy of bosons and holons are given by,\n",
    "\n",
    "    Σ_B(τ) = - γ G_c(τ) * G_h(τ),\n",
    "\n",
    "    Σ_h(τ) = - G_c(β - τ) * G_b(τ),\n",
    "    \n",
    " where the boson and holon Green's function are given by the Dyson equation,\n",
    "\n",
    "    G_B(iωₙ) = 1/(iνₙ - λ - Σ_B(iνₙ))\n",
    "\n",
    "    G_h(iωₙ) = 1/(-1/J_K - Σ_h(iνₙ))\n",
    "\n",
    " We solve the Dyson equation self-consistently by a weighted fixed point iteration, \n",
    " with weight `mix` assigned to the new iterate and weight `1-mix` assigned to the previous iterate. \n",
    " mix can be rather big for this non-critical system\n",
    " \n",
    " The self-energy is evaluated in the imaginary time domain, \n",
    " and the Dyson equation is solved in the Matsubara frequency domain.\n",
    "\n",
    " one needs to enforce that n_B(λ) = q = 0.3\n",
    "\n",
    " You may enforce particle-hole symmetry by setting `symmetry = :ph` when initialize the DLR grids.\n",
    " A symmetrized solver tends to be more robust than a unsymmetrized one.\n",
    " The is no such symmetry here\n",
    "\"\"\"\n",
    "\n",
    "using Lehmann\n",
    "using Printf\n",
    "\n",
    "diff(a, b) = maximum(abs.(a - b)) # return the maximum deviation between a and b\n",
    "\n",
    "# Initialize DLR grid\n",
    "\n",
    "rtol = 1e-8\n",
    "β = 1000.0\n",
    "Euv = 100\n",
    "df = DLRGrid(Euv = Euv, β = β, isFermi = true, rtol = rtol, symmetry = :none) \n",
    "db = DLRGrid(Euv = Euv, β = β, isFermi = false, rtol = rtol, symmetry = :none)\n",
    "\n",
    "\n",
    "\n",
    "tol = -maximum([-df.rtol * 10, -db.rtol * 10])\n",
    "mix = 0.1\n",
    "maxiter = 1000\n",
    "sumrule = nothing\n",
    "verbose = false\n",
    "G_B = zeros(ComplexF64, length(db))\n",
    "G_h = zeros(ComplexF64, length(df))\n",
    "D = 20\n",
    "ρ = 1/(2*D)\n",
    "G_c_matfreq = - ρ .* log.( (D .- df.ωn * 1im) ./ (- D .- df.ωn * 1im))\n",
    "G_c = matfreq2tau(df, G_c_matfreq)\n",
    "\n",
    "q0 = 0.5\n",
    "γ = q0\n",
    "λ = (1/β) * log(1/q0 +1)\n",
    "β_K = 30\n",
    "J_K = 1 / ρ / log(D * β_K)\n",
    "\n",
    "\n",
    "qerr = 1.0\n",
    "maxiter = 5000\n",
    "\n",
    "for iter in 1:maxiter\n",
    "        \n",
    "   tau_c = df.τ # DLR imaginary time nodes\n",
    "   tau_c_rev = df.β .- tau_c # Reversed imaginary time nodes\n",
    "\n",
    "   G_c_rev = tau2tau(df, G_c, tau_c_rev) # G_c at beta - tau_k\n",
    "\n",
    "   Sigma_B = - γ .* G_h .* G_c\n",
    "\n",
    "   Sigma_h = - G_h .* G_c_rev\n",
    "\n",
    "   Sigma_B_matfreq = tau2matfreq(db, Sigma_B, sumrule = 1)\n",
    "\n",
    "   Sigma_h_matfreq = tau2matfreq(df, Sigma_h,sumrule = 1)\n",
    "\n",
    "   G_B_new = 1 ./(db.ωn * 1im .- λ .+ Sigma_B_matfreq)\n",
    "\n",
    "   G_h_new = 1 ./((- 1 ./J_K ) .+ Sigma_h_matfreq)\n",
    "\n",
    "   G_B_new_tau = matfreq2tau(db, G_B_new, sumrule = 1)\n",
    "\n",
    "   G_h_new_tau = matfreq2tau(df, G_h_new, sumrule = 1)\n",
    "\n",
    "   if verbose\n",
    "      if iter % (maxiter / 10) == 0\n",
    "          println(\"round $iter: change B $(diff(G_B_new, G_B)) change χ $(diff(G_h_new, G_h))\")\n",
    "      end\n",
    "   end\n",
    "\n",
    "   if sqrt((diff(G_B_new_tau .- G_B))^2 + (diff(G_B_new_tau .- G_B))^2) < tol && iter > 10\n",
    "      break\n",
    "   end\n",
    "\n",
    "   G_B = mix * G_B_new_tau + (1 - mix) * G_B # Linear mixing\n",
    "\n",
    "   G_h = mix * G_h_new_tau + (1 - mix) * G_h # Linear mixing\n",
    "\n",
    "   #solve n_B(λ) = q0\n",
    "   #func_G_B_new(λp) =  1./(1./G_B_new .+ λ - λp)\n",
    "\n",
    "\n",
    "end\n",
    "#######\n",
    "#tbd - add the lambda loop?\n",
    "#######"
   ]
  },
  {
   "cell_type": "code",
   "execution_count": 3,
   "metadata": {},
   "outputs": [
    {
     "name": "stdout",
     "output_type": "stream",
     "text": [
      "iter: 1\n",
      "iter: 2\n",
      "iter: 3\n",
      "iter: 4\n",
      "iter: 5\n",
      "iter: 6\n",
      "iter: 7\n",
      "iter: 8\n",
      "iter: 9\n",
      "iter: 10\n",
      "iter: 11\n",
      "iter: 12\n"
     ]
    }
   ],
   "source": [
    "cont = 1\n",
    "jj = 0\n",
    "while cont==1 \n",
    "    jj = jj +1\n",
    "    println(\"iter: \",jj)\n",
    "    if jj == 12\n",
    "        cont = 0\n",
    "    end\n",
    "end"
   ]
  },
  {
   "cell_type": "code",
   "execution_count": null,
   "metadata": {},
   "outputs": [],
   "source": [
    "#####\n",
    "#figure out measurements\n",
    "#####"
   ]
  },
  {
   "cell_type": "code",
   "execution_count": 1,
   "metadata": {},
   "outputs": [
    {
     "name": "stdout",
     "output_type": "stream",
     "text": [
      "\u001b[33m=====    Prepare the expected Green's function of the SYK model     =======\u001b[39m\n",
      "\u001b[33m=====    Test Symmetrized and Unsymmetrized DLR solver for SYK model     =======\u001b[39m\n"
     ]
    },
    {
     "data": {
      "text/plain": [
       "\"bad\""
      ]
     },
     "execution_count": 1,
     "metadata": {},
     "output_type": "execute_result"
    }
   ],
   "source": [
    "function printG(d, G_x)\n",
    "    @printf(\"%15s%40s%40s%40s\\n\", \"τ\", \"DLR imag\", \"DLR real\", \"asymtotically exact\")\n",
    "    for i in 1:d.size\n",
    "        if d.τ[i] <= d.β / 2\n",
    "            @printf(\"%15.8f%40.15f%40.15f%40.15f\\n\", d.τ[i], imag(G_x[i]), real(G_x[i]), conformal_tau(d.τ[i], d.β))\n",
    "        end\n",
    "    end\n",
    "    println()\n",
    "end\n",
    "\n",
    "verbose = false\n",
    "\n",
    "printstyled(\"=====    Prepare the expected Green's function of the SYK model     =======\\n\", color = :yellow)\n",
    "dsym_correct = DLRGrid(Euv = 5.0, β = 10000.0, isFermi = true, rtol = 1e-14, symmetry = :ph) # Initialize DLR object\n",
    "G_x_correct = solve_syk_with_fixpoint_iter(dsym_correct, 0.00, mix = 0.1, verbose = false)\n",
    "#printG(dsym_correct, G_x_correct)\n",
    "\n",
    "printstyled(\"=====    Test Symmetrized and Unsymmetrized DLR solver for SYK model     =======\\n\", color = :yellow)\n",
    "\n",
    "# @printf(\"%30s%30s%30s%30s%20s\\n\", \"Euv\", \"sym_solver\", \"unsym_solver\", \"unsym_solver+sum_rule\", \"good or bad\")\n",
    "\n",
    "rtol = 1e-8\n",
    "β = 1000.0\n",
    "Euv = 20\n",
    "# printstyled(\"=====     Symmetrized DLR solver for SYK model     =======\\n\", color = :yellow)\n",
    "mix = 0.01\n",
    "dsym = DLRGrid(Euv = Euv, β = β, isFermi = true, rtol = rtol, symmetry = :ph, rebuild = true, verbose = false) # Initialize DLR object\n",
    "G_x_ph = solve_syk_with_fixpoint_iter(dsym, 0.00, mix = mix, sumrule = nothing, verbose = verbose)\n",
    "\n",
    "# printstyled(\"=====     Unsymmetrized DLR solver for SYK model     =======\\n\", color = :yellow)\n",
    "mix = 0.01\n",
    "dnone = DLRGrid(Euv = Euv, β = β, isFermi = true, rtol = rtol, symmetry = :none, rebuild = true, verbose = false) # Initialize DLR object\n",
    "G_x_none = solve_syk_with_fixpoint_iter(dnone, 0.00 , mix = mix, sumrule = nothing, verbose = verbose)\n",
    "\n",
    "# printstyled(\"=====     Unsymmetrized DLR solver for SYK model     =======\\n\", color = :yellow)\n",
    "mix = 0.01\n",
    "G_x_none_sumrule = solve_syk_with_fixpoint_iter(dnone, 0.00, mix = mix, sumrule = 1.0, verbose = verbose)\n",
    "# printG(dnone, G_x_none)\n",
    "\n",
    "# printstyled(\"=====     Unsymmetrized versus Symmetrized DLR solver    =======\\n\", color = :yellow)\n",
    "# @printf(\"%15s%40s%40s%40s\\n\", \"τ\", \"sym DLR (interpolated)\", \"unsym DLR\", \"difference\")\n",
    "# G_x_interp = tau2tau(dsym_correct, G_x_correct, dnone.τ)\n",
    "# for i in 1:dnone.size\n",
    "#     if dnone.τ[i] <= dnone.β / 2\n",
    "#         @printf(\"%15.8f%40.15f%40.15f%40.15f\\n\", dnone.τ[i], real(G_x_interp[i]), real(G_x_none[i]), abs(real(G_x_interp[i] - G_x_none[i])))\n",
    "#     end\n",
    "# end\n",
    "\n",
    "G_x_interp_ph = tau2tau(dsym_correct, G_x_correct, dsym.τ)\n",
    "G_x_interp_none = tau2tau(dsym_correct, G_x_correct, dnone.τ)\n",
    "G_x_interp_none_sumrule = tau2tau(dsym_correct, G_x_correct, dnone.τ)\n",
    "d_ph = diff(G_x_interp_ph, G_x_ph)\n",
    "d_none = diff(G_x_interp_none, G_x_none)\n",
    "d_none_sumrule = diff(G_x_interp_none_sumrule, G_x_none_sumrule)\n",
    "flag = (d_ph < 100rtol) && (d_none < 100rtol) && (d_none_sumrule < 100rtol) ? \"good\" : \"bad\"\n",
    "\n",
    "#  @printf(\"%30.15f%30.15e%30.15e%30.15e%20s\\n\", Euv, d_ph, d_none, d_none_sumrule, flag)\n",
    "# println(\"symmetric Euv = $Euv maximumal difference: \", diff(G_x_interp, G_x_ph))\n",
    "# println(\"non symmetric Euv = $Euv maximumal difference: \", diff(G_x_interp, G_x_none))"
   ]
  },
  {
   "cell_type": "code",
   "execution_count": 6,
   "metadata": {},
   "outputs": [],
   "source": [
    "using Plots"
   ]
  },
  {
   "cell_type": "code",
   "execution_count": 8,
   "metadata": {},
   "outputs": [
    {
     "data": {
      "image/svg+xml": "<?xml version=\"1.0\" encoding=\"utf-8\"?>\n<svg xmlns=\"http://www.w3.org/2000/svg\" xmlns:xlink=\"http://www.w3.org/1999/xlink\" width=\"600\" height=\"400\" viewBox=\"0 0 2400 1600\">\n<defs>\n  <clipPath id=\"clip450\">\n    <rect x=\"0\" y=\"0\" width=\"2400\" height=\"1600\"/>\n  </clipPath>\n</defs>\n<path clip-path=\"url(#clip450)\" d=\"\nM0 1600 L2400 1600 L2400 0 L0 0  Z\n  \" fill=\"#ffffff\" fill-rule=\"evenodd\" fill-opacity=\"1\"/>\n<defs>\n  <clipPath id=\"clip451\">\n    <rect x=\"480\" y=\"0\" width=\"1681\" height=\"1600\"/>\n  </clipPath>\n</defs>\n<path clip-path=\"url(#clip450)\" d=\"\nM156.598 1486.45 L2352.76 1486.45 L2352.76 47.2441 L156.598 47.2441  Z\n  \" fill=\"#ffffff\" fill-rule=\"evenodd\" fill-opacity=\"1\"/>\n<defs>\n  <clipPath id=\"clip452\">\n    <rect x=\"156\" y=\"47\" width=\"2197\" height=\"1440\"/>\n  </clipPath>\n</defs>\n<polyline clip-path=\"url(#clip452)\" style=\"stroke:#000000; stroke-linecap:butt; stroke-linejoin:round; stroke-width:2; stroke-opacity:0.1; fill:none\" points=\"\n  218.753,1486.45 218.753,47.2441 \n  \"/>\n<polyline clip-path=\"url(#clip452)\" style=\"stroke:#000000; stroke-linecap:butt; stroke-linejoin:round; stroke-width:2; stroke-opacity:0.1; fill:none\" points=\"\n  736.715,1486.45 736.715,47.2441 \n  \"/>\n<polyline clip-path=\"url(#clip452)\" style=\"stroke:#000000; stroke-linecap:butt; stroke-linejoin:round; stroke-width:2; stroke-opacity:0.1; fill:none\" points=\"\n  1254.68,1486.45 1254.68,47.2441 \n  \"/>\n<polyline clip-path=\"url(#clip452)\" style=\"stroke:#000000; stroke-linecap:butt; stroke-linejoin:round; stroke-width:2; stroke-opacity:0.1; fill:none\" points=\"\n  1772.64,1486.45 1772.64,47.2441 \n  \"/>\n<polyline clip-path=\"url(#clip452)\" style=\"stroke:#000000; stroke-linecap:butt; stroke-linejoin:round; stroke-width:2; stroke-opacity:0.1; fill:none\" points=\"\n  2290.6,1486.45 2290.6,47.2441 \n  \"/>\n<polyline clip-path=\"url(#clip450)\" style=\"stroke:#000000; stroke-linecap:butt; stroke-linejoin:round; stroke-width:4; stroke-opacity:1; fill:none\" points=\"\n  156.598,1486.45 2352.76,1486.45 \n  \"/>\n<polyline clip-path=\"url(#clip450)\" style=\"stroke:#000000; stroke-linecap:butt; stroke-linejoin:round; stroke-width:4; stroke-opacity:1; fill:none\" points=\"\n  218.753,1486.45 218.753,1467.55 \n  \"/>\n<polyline clip-path=\"url(#clip450)\" style=\"stroke:#000000; stroke-linecap:butt; stroke-linejoin:round; stroke-width:4; stroke-opacity:1; fill:none\" points=\"\n  736.715,1486.45 736.715,1467.55 \n  \"/>\n<polyline clip-path=\"url(#clip450)\" style=\"stroke:#000000; stroke-linecap:butt; stroke-linejoin:round; stroke-width:4; stroke-opacity:1; fill:none\" points=\"\n  1254.68,1486.45 1254.68,1467.55 \n  \"/>\n<polyline clip-path=\"url(#clip450)\" style=\"stroke:#000000; stroke-linecap:butt; stroke-linejoin:round; stroke-width:4; stroke-opacity:1; fill:none\" points=\"\n  1772.64,1486.45 1772.64,1467.55 \n  \"/>\n<polyline clip-path=\"url(#clip450)\" style=\"stroke:#000000; stroke-linecap:butt; stroke-linejoin:round; stroke-width:4; stroke-opacity:1; fill:none\" points=\"\n  2290.6,1486.45 2290.6,1467.55 \n  \"/>\n<path clip-path=\"url(#clip450)\" d=\"M218.753 1517.37 Q215.142 1517.37 213.314 1520.93 Q211.508 1524.47 211.508 1531.6 Q211.508 1538.71 213.314 1542.27 Q215.142 1545.82 218.753 1545.82 Q222.388 1545.82 224.193 1542.27 Q226.022 1538.71 226.022 1531.6 Q226.022 1524.47 224.193 1520.93 Q222.388 1517.37 218.753 1517.37 M218.753 1513.66 Q224.564 1513.66 227.619 1518.27 Q230.698 1522.85 230.698 1531.6 Q230.698 1540.33 227.619 1544.94 Q224.564 1549.52 218.753 1549.52 Q212.943 1549.52 209.865 1544.94 Q206.809 1540.33 206.809 1531.6 Q206.809 1522.85 209.865 1518.27 Q212.943 1513.66 218.753 1513.66 Z\" fill=\"#000000\" fill-rule=\"evenodd\" fill-opacity=\"1\" /><path clip-path=\"url(#clip450)\" d=\"M700.408 1544.91 L716.727 1544.91 L716.727 1548.85 L694.783 1548.85 L694.783 1544.91 Q697.445 1542.16 702.028 1537.53 Q706.634 1532.88 707.815 1531.53 Q710.06 1529.01 710.94 1527.27 Q711.843 1525.51 711.843 1523.82 Q711.843 1521.07 709.898 1519.33 Q707.977 1517.6 704.875 1517.6 Q702.676 1517.6 700.222 1518.36 Q697.792 1519.13 695.014 1520.68 L695.014 1515.95 Q697.838 1514.82 700.292 1514.24 Q702.745 1513.66 704.783 1513.66 Q710.153 1513.66 713.347 1516.35 Q716.542 1519.03 716.542 1523.52 Q716.542 1525.65 715.732 1527.57 Q714.945 1529.47 712.838 1532.07 Q712.259 1532.74 709.157 1535.95 Q706.056 1539.15 700.408 1544.91 Z\" fill=\"#000000\" fill-rule=\"evenodd\" fill-opacity=\"1\" /><path clip-path=\"url(#clip450)\" d=\"M726.588 1514.29 L744.944 1514.29 L744.944 1518.22 L730.87 1518.22 L730.87 1526.7 Q731.889 1526.35 732.907 1526.19 Q733.926 1526 734.944 1526 Q740.731 1526 744.111 1529.17 Q747.491 1532.34 747.491 1537.76 Q747.491 1543.34 744.018 1546.44 Q740.546 1549.52 734.227 1549.52 Q732.051 1549.52 729.782 1549.15 Q727.537 1548.78 725.13 1548.04 L725.13 1543.34 Q727.213 1544.47 729.435 1545.03 Q731.657 1545.58 734.134 1545.58 Q738.139 1545.58 740.477 1543.48 Q742.815 1541.37 742.815 1537.76 Q742.815 1534.15 740.477 1532.04 Q738.139 1529.94 734.134 1529.94 Q732.259 1529.94 730.384 1530.35 Q728.532 1530.77 726.588 1531.65 L726.588 1514.29 Z\" fill=\"#000000\" fill-rule=\"evenodd\" fill-opacity=\"1\" /><path clip-path=\"url(#clip450)\" d=\"M766.703 1517.37 Q763.092 1517.37 761.264 1520.93 Q759.458 1524.47 759.458 1531.6 Q759.458 1538.71 761.264 1542.27 Q763.092 1545.82 766.703 1545.82 Q770.338 1545.82 772.143 1542.27 Q773.972 1538.71 773.972 1531.6 Q773.972 1524.47 772.143 1520.93 Q770.338 1517.37 766.703 1517.37 M766.703 1513.66 Q772.514 1513.66 775.569 1518.27 Q778.648 1522.85 778.648 1531.6 Q778.648 1540.33 775.569 1544.94 Q772.514 1549.52 766.703 1549.52 Q760.893 1549.52 757.815 1544.94 Q754.759 1540.33 754.759 1531.6 Q754.759 1522.85 757.815 1518.27 Q760.893 1513.66 766.703 1513.66 Z\" fill=\"#000000\" fill-rule=\"evenodd\" fill-opacity=\"1\" /><path clip-path=\"url(#clip450)\" d=\"M1214.3 1514.29 L1232.65 1514.29 L1232.65 1518.22 L1218.58 1518.22 L1218.58 1526.7 Q1219.6 1526.35 1220.61 1526.19 Q1221.63 1526 1222.65 1526 Q1228.44 1526 1231.82 1529.17 Q1235.2 1532.34 1235.2 1537.76 Q1235.2 1543.34 1231.73 1546.44 Q1228.25 1549.52 1221.93 1549.52 Q1219.76 1549.52 1217.49 1549.15 Q1215.24 1548.78 1212.84 1548.04 L1212.84 1543.34 Q1214.92 1544.47 1217.14 1545.03 Q1219.36 1545.58 1221.84 1545.58 Q1225.85 1545.58 1228.18 1543.48 Q1230.52 1541.37 1230.52 1537.76 Q1230.52 1534.15 1228.18 1532.04 Q1225.85 1529.94 1221.84 1529.94 Q1219.97 1529.94 1218.09 1530.35 Q1216.24 1530.77 1214.3 1531.65 L1214.3 1514.29 Z\" fill=\"#000000\" fill-rule=\"evenodd\" fill-opacity=\"1\" /><path clip-path=\"url(#clip450)\" d=\"M1254.41 1517.37 Q1250.8 1517.37 1248.97 1520.93 Q1247.17 1524.47 1247.17 1531.6 Q1247.17 1538.71 1248.97 1542.27 Q1250.8 1545.82 1254.41 1545.82 Q1258.05 1545.82 1259.85 1542.27 Q1261.68 1538.71 1261.68 1531.6 Q1261.68 1524.47 1259.85 1520.93 Q1258.05 1517.37 1254.41 1517.37 M1254.41 1513.66 Q1260.22 1513.66 1263.28 1518.27 Q1266.36 1522.85 1266.36 1531.6 Q1266.36 1540.33 1263.28 1544.94 Q1260.22 1549.52 1254.41 1549.52 Q1248.6 1549.52 1245.52 1544.94 Q1242.47 1540.33 1242.47 1531.6 Q1242.47 1522.85 1245.52 1518.27 Q1248.6 1513.66 1254.41 1513.66 Z\" fill=\"#000000\" fill-rule=\"evenodd\" fill-opacity=\"1\" /><path clip-path=\"url(#clip450)\" d=\"M1284.57 1517.37 Q1280.96 1517.37 1279.13 1520.93 Q1277.33 1524.47 1277.33 1531.6 Q1277.33 1538.71 1279.13 1542.27 Q1280.96 1545.82 1284.57 1545.82 Q1288.21 1545.82 1290.01 1542.27 Q1291.84 1538.71 1291.84 1531.6 Q1291.84 1524.47 1290.01 1520.93 Q1288.21 1517.37 1284.57 1517.37 M1284.57 1513.66 Q1290.38 1513.66 1293.44 1518.27 Q1296.52 1522.85 1296.52 1531.6 Q1296.52 1540.33 1293.44 1544.94 Q1290.38 1549.52 1284.57 1549.52 Q1278.76 1549.52 1275.68 1544.94 Q1272.63 1540.33 1272.63 1531.6 Q1272.63 1522.85 1275.68 1518.27 Q1278.76 1513.66 1284.57 1513.66 Z\" fill=\"#000000\" fill-rule=\"evenodd\" fill-opacity=\"1\" /><path clip-path=\"url(#clip450)\" d=\"M1730.91 1514.29 L1753.14 1514.29 L1753.14 1516.28 L1740.59 1548.85 L1735.71 1548.85 L1747.51 1518.22 L1730.91 1518.22 L1730.91 1514.29 Z\" fill=\"#000000\" fill-rule=\"evenodd\" fill-opacity=\"1\" /><path clip-path=\"url(#clip450)\" d=\"M1762.3 1514.29 L1780.66 1514.29 L1780.66 1518.22 L1766.59 1518.22 L1766.59 1526.7 Q1767.6 1526.35 1768.62 1526.19 Q1769.64 1526 1770.66 1526 Q1776.45 1526 1779.83 1529.17 Q1783.21 1532.34 1783.21 1537.76 Q1783.21 1543.34 1779.73 1546.44 Q1776.26 1549.52 1769.94 1549.52 Q1767.77 1549.52 1765.5 1549.15 Q1763.25 1548.78 1760.85 1548.04 L1760.85 1543.34 Q1762.93 1544.47 1765.15 1545.03 Q1767.37 1545.58 1769.85 1545.58 Q1773.85 1545.58 1776.19 1543.48 Q1778.53 1541.37 1778.53 1537.76 Q1778.53 1534.15 1776.19 1532.04 Q1773.85 1529.94 1769.85 1529.94 Q1767.97 1529.94 1766.1 1530.35 Q1764.25 1530.77 1762.3 1531.65 L1762.3 1514.29 Z\" fill=\"#000000\" fill-rule=\"evenodd\" fill-opacity=\"1\" /><path clip-path=\"url(#clip450)\" d=\"M1802.42 1517.37 Q1798.81 1517.37 1796.98 1520.93 Q1795.17 1524.47 1795.17 1531.6 Q1795.17 1538.71 1796.98 1542.27 Q1798.81 1545.82 1802.42 1545.82 Q1806.05 1545.82 1807.86 1542.27 Q1809.69 1538.71 1809.69 1531.6 Q1809.69 1524.47 1807.86 1520.93 Q1806.05 1517.37 1802.42 1517.37 M1802.42 1513.66 Q1808.23 1513.66 1811.28 1518.27 Q1814.36 1522.85 1814.36 1531.6 Q1814.36 1540.33 1811.28 1544.94 Q1808.23 1549.52 1802.42 1549.52 Q1796.61 1549.52 1793.53 1544.94 Q1790.47 1540.33 1790.47 1531.6 Q1790.47 1522.85 1793.53 1518.27 Q1796.61 1513.66 1802.42 1513.66 Z\" fill=\"#000000\" fill-rule=\"evenodd\" fill-opacity=\"1\" /><path clip-path=\"url(#clip450)\" d=\"M2235.13 1544.91 L2242.77 1544.91 L2242.77 1518.55 L2234.46 1520.21 L2234.46 1515.95 L2242.72 1514.29 L2247.39 1514.29 L2247.39 1544.91 L2255.03 1544.91 L2255.03 1548.85 L2235.13 1548.85 L2235.13 1544.91 Z\" fill=\"#000000\" fill-rule=\"evenodd\" fill-opacity=\"1\" /><path clip-path=\"url(#clip450)\" d=\"M2274.48 1517.37 Q2270.87 1517.37 2269.04 1520.93 Q2267.23 1524.47 2267.23 1531.6 Q2267.23 1538.71 2269.04 1542.27 Q2270.87 1545.82 2274.48 1545.82 Q2278.11 1545.82 2279.92 1542.27 Q2281.75 1538.71 2281.75 1531.6 Q2281.75 1524.47 2279.92 1520.93 Q2278.11 1517.37 2274.48 1517.37 M2274.48 1513.66 Q2280.29 1513.66 2283.34 1518.27 Q2286.42 1522.85 2286.42 1531.6 Q2286.42 1540.33 2283.34 1544.94 Q2280.29 1549.52 2274.48 1549.52 Q2268.67 1549.52 2265.59 1544.94 Q2262.53 1540.33 2262.53 1531.6 Q2262.53 1522.85 2265.59 1518.27 Q2268.67 1513.66 2274.48 1513.66 Z\" fill=\"#000000\" fill-rule=\"evenodd\" fill-opacity=\"1\" /><path clip-path=\"url(#clip450)\" d=\"M2304.64 1517.37 Q2301.03 1517.37 2299.2 1520.93 Q2297.39 1524.47 2297.39 1531.6 Q2297.39 1538.71 2299.2 1542.27 Q2301.03 1545.82 2304.64 1545.82 Q2308.27 1545.82 2310.08 1542.27 Q2311.91 1538.71 2311.91 1531.6 Q2311.91 1524.47 2310.08 1520.93 Q2308.27 1517.37 2304.64 1517.37 M2304.64 1513.66 Q2310.45 1513.66 2313.51 1518.27 Q2316.58 1522.85 2316.58 1531.6 Q2316.58 1540.33 2313.51 1544.94 Q2310.45 1549.52 2304.64 1549.52 Q2298.83 1549.52 2295.75 1544.94 Q2292.7 1540.33 2292.7 1531.6 Q2292.7 1522.85 2295.75 1518.27 Q2298.83 1513.66 2304.64 1513.66 Z\" fill=\"#000000\" fill-rule=\"evenodd\" fill-opacity=\"1\" /><path clip-path=\"url(#clip450)\" d=\"M2334.8 1517.37 Q2331.19 1517.37 2329.36 1520.93 Q2327.56 1524.47 2327.56 1531.6 Q2327.56 1538.71 2329.36 1542.27 Q2331.19 1545.82 2334.8 1545.82 Q2338.44 1545.82 2340.24 1542.27 Q2342.07 1538.71 2342.07 1531.6 Q2342.07 1524.47 2340.24 1520.93 Q2338.44 1517.37 2334.8 1517.37 M2334.8 1513.66 Q2340.61 1513.66 2343.67 1518.27 Q2346.75 1522.85 2346.75 1531.6 Q2346.75 1540.33 2343.67 1544.94 Q2340.61 1549.52 2334.8 1549.52 Q2328.99 1549.52 2325.91 1544.94 Q2322.86 1540.33 2322.86 1531.6 Q2322.86 1522.85 2325.91 1518.27 Q2328.99 1513.66 2334.8 1513.66 Z\" fill=\"#000000\" fill-rule=\"evenodd\" fill-opacity=\"1\" /><polyline clip-path=\"url(#clip452)\" style=\"stroke:#000000; stroke-linecap:butt; stroke-linejoin:round; stroke-width:2; stroke-opacity:0.1; fill:none\" points=\"\n  156.598,1243.06 2352.76,1243.06 \n  \"/>\n<polyline clip-path=\"url(#clip452)\" style=\"stroke:#000000; stroke-linecap:butt; stroke-linejoin:round; stroke-width:2; stroke-opacity:0.1; fill:none\" points=\"\n  156.598,954.27 2352.76,954.27 \n  \"/>\n<polyline clip-path=\"url(#clip452)\" style=\"stroke:#000000; stroke-linecap:butt; stroke-linejoin:round; stroke-width:2; stroke-opacity:0.1; fill:none\" points=\"\n  156.598,665.483 2352.76,665.483 \n  \"/>\n<polyline clip-path=\"url(#clip452)\" style=\"stroke:#000000; stroke-linecap:butt; stroke-linejoin:round; stroke-width:2; stroke-opacity:0.1; fill:none\" points=\"\n  156.598,376.696 2352.76,376.696 \n  \"/>\n<polyline clip-path=\"url(#clip452)\" style=\"stroke:#000000; stroke-linecap:butt; stroke-linejoin:round; stroke-width:2; stroke-opacity:0.1; fill:none\" points=\"\n  156.598,87.9087 2352.76,87.9087 \n  \"/>\n<polyline clip-path=\"url(#clip450)\" style=\"stroke:#000000; stroke-linecap:butt; stroke-linejoin:round; stroke-width:4; stroke-opacity:1; fill:none\" points=\"\n  156.598,1486.45 156.598,47.2441 \n  \"/>\n<polyline clip-path=\"url(#clip450)\" style=\"stroke:#000000; stroke-linecap:butt; stroke-linejoin:round; stroke-width:4; stroke-opacity:1; fill:none\" points=\"\n  156.598,1243.06 175.496,1243.06 \n  \"/>\n<polyline clip-path=\"url(#clip450)\" style=\"stroke:#000000; stroke-linecap:butt; stroke-linejoin:round; stroke-width:4; stroke-opacity:1; fill:none\" points=\"\n  156.598,954.27 175.496,954.27 \n  \"/>\n<polyline clip-path=\"url(#clip450)\" style=\"stroke:#000000; stroke-linecap:butt; stroke-linejoin:round; stroke-width:4; stroke-opacity:1; fill:none\" points=\"\n  156.598,665.483 175.496,665.483 \n  \"/>\n<polyline clip-path=\"url(#clip450)\" style=\"stroke:#000000; stroke-linecap:butt; stroke-linejoin:round; stroke-width:4; stroke-opacity:1; fill:none\" points=\"\n  156.598,376.696 175.496,376.696 \n  \"/>\n<polyline clip-path=\"url(#clip450)\" style=\"stroke:#000000; stroke-linecap:butt; stroke-linejoin:round; stroke-width:4; stroke-opacity:1; fill:none\" points=\"\n  156.598,87.9087 175.496,87.9087 \n  \"/>\n<path clip-path=\"url(#clip450)\" d=\"M64.6495 1228.86 Q61.0384 1228.86 59.2097 1232.42 Q57.4041 1235.96 57.4041 1243.09 Q57.4041 1250.2 59.2097 1253.76 Q61.0384 1257.31 64.6495 1257.31 Q68.2837 1257.31 70.0892 1253.76 Q71.9179 1250.2 71.9179 1243.09 Q71.9179 1235.96 70.0892 1232.42 Q68.2837 1228.86 64.6495 1228.86 M64.6495 1225.15 Q70.4596 1225.15 73.5152 1229.76 Q76.5938 1234.34 76.5938 1243.09 Q76.5938 1251.82 73.5152 1256.43 Q70.4596 1261.01 64.6495 1261.01 Q58.8393 1261.01 55.7606 1256.43 Q52.7051 1251.82 52.7051 1243.09 Q52.7051 1234.34 55.7606 1229.76 Q58.8393 1225.15 64.6495 1225.15 Z\" fill=\"#000000\" fill-rule=\"evenodd\" fill-opacity=\"1\" /><path clip-path=\"url(#clip450)\" d=\"M84.8114 1254.46 L89.6956 1254.46 L89.6956 1260.34 L84.8114 1260.34 L84.8114 1254.46 Z\" fill=\"#000000\" fill-rule=\"evenodd\" fill-opacity=\"1\" /><path clip-path=\"url(#clip450)\" d=\"M100.691 1256.4 L108.33 1256.4 L108.33 1230.04 L100.02 1231.7 L100.02 1227.44 L108.283 1225.78 L112.959 1225.78 L112.959 1256.4 L120.598 1256.4 L120.598 1260.34 L100.691 1260.34 L100.691 1256.4 Z\" fill=\"#000000\" fill-rule=\"evenodd\" fill-opacity=\"1\" /><path clip-path=\"url(#clip450)\" d=\"M65.0198 940.069 Q61.4087 940.069 59.58 943.634 Q57.7745 947.176 57.7745 954.305 Q57.7745 961.412 59.58 964.976 Q61.4087 968.518 65.0198 968.518 Q68.6541 968.518 70.4596 964.976 Q72.2883 961.412 72.2883 954.305 Q72.2883 947.176 70.4596 943.634 Q68.6541 940.069 65.0198 940.069 M65.0198 936.365 Q70.83 936.365 73.8855 940.972 Q76.9642 945.555 76.9642 954.305 Q76.9642 963.032 73.8855 967.638 Q70.83 972.222 65.0198 972.222 Q59.2097 972.222 56.131 967.638 Q53.0754 963.032 53.0754 954.305 Q53.0754 945.555 56.131 940.972 Q59.2097 936.365 65.0198 936.365 Z\" fill=\"#000000\" fill-rule=\"evenodd\" fill-opacity=\"1\" /><path clip-path=\"url(#clip450)\" d=\"M85.1818 965.671 L90.066 965.671 L90.066 971.55 L85.1818 971.55 L85.1818 965.671 Z\" fill=\"#000000\" fill-rule=\"evenodd\" fill-opacity=\"1\" /><path clip-path=\"url(#clip450)\" d=\"M104.279 967.615 L120.598 967.615 L120.598 971.55 L98.6539 971.55 L98.6539 967.615 Q101.316 964.861 105.899 960.231 Q110.506 955.578 111.686 954.236 Q113.932 951.713 114.811 949.976 Q115.714 948.217 115.714 946.527 Q115.714 943.773 113.77 942.037 Q111.848 940.301 108.746 940.301 Q106.547 940.301 104.094 941.064 Q101.663 941.828 98.8854 943.379 L98.8854 938.657 Q101.709 937.523 104.163 936.944 Q106.617 936.365 108.654 936.365 Q114.024 936.365 117.219 939.051 Q120.413 941.736 120.413 946.226 Q120.413 948.356 119.603 950.277 Q118.816 952.176 116.709 954.768 Q116.131 955.439 113.029 958.657 Q109.927 961.851 104.279 967.615 Z\" fill=\"#000000\" fill-rule=\"evenodd\" fill-opacity=\"1\" /><path clip-path=\"url(#clip450)\" d=\"M64.0708 651.282 Q60.4597 651.282 58.631 654.847 Q56.8254 658.388 56.8254 665.518 Q56.8254 672.624 58.631 676.189 Q60.4597 679.731 64.0708 679.731 Q67.705 679.731 69.5105 676.189 Q71.3392 672.624 71.3392 665.518 Q71.3392 658.388 69.5105 654.847 Q67.705 651.282 64.0708 651.282 M64.0708 647.578 Q69.8809 647.578 72.9365 652.185 Q76.0151 656.768 76.0151 665.518 Q76.0151 674.245 72.9365 678.851 Q69.8809 683.434 64.0708 683.434 Q58.2606 683.434 55.1819 678.851 Q52.1264 674.245 52.1264 665.518 Q52.1264 656.768 55.1819 652.185 Q58.2606 647.578 64.0708 647.578 Z\" fill=\"#000000\" fill-rule=\"evenodd\" fill-opacity=\"1\" /><path clip-path=\"url(#clip450)\" d=\"M84.2327 676.884 L89.1169 676.884 L89.1169 682.763 L84.2327 682.763 L84.2327 676.884 Z\" fill=\"#000000\" fill-rule=\"evenodd\" fill-opacity=\"1\" /><path clip-path=\"url(#clip450)\" d=\"M113.469 664.129 Q116.825 664.847 118.7 667.115 Q120.598 669.384 120.598 672.717 Q120.598 677.833 117.08 680.634 Q113.561 683.434 107.08 683.434 Q104.904 683.434 102.589 682.995 Q100.297 682.578 97.8437 681.722 L97.8437 677.208 Q99.7882 678.342 102.103 678.921 Q104.418 679.499 106.941 679.499 Q111.339 679.499 113.631 677.763 Q115.945 676.027 115.945 672.717 Q115.945 669.661 113.793 667.948 Q111.663 666.212 107.844 666.212 L103.816 666.212 L103.816 662.37 L108.029 662.37 Q111.478 662.37 113.307 661.004 Q115.135 659.615 115.135 657.023 Q115.135 654.361 113.237 652.949 Q111.362 651.513 107.844 651.513 Q105.922 651.513 103.723 651.93 Q101.524 652.347 98.8854 653.226 L98.8854 649.06 Q101.547 648.319 103.862 647.949 Q106.2 647.578 108.26 647.578 Q113.584 647.578 116.686 650.009 Q119.788 652.416 119.788 656.536 Q119.788 659.407 118.145 661.398 Q116.501 663.365 113.469 664.129 Z\" fill=\"#000000\" fill-rule=\"evenodd\" fill-opacity=\"1\" /><path clip-path=\"url(#clip450)\" d=\"M62.9365 362.495 Q59.3254 362.495 57.4967 366.059 Q55.6912 369.601 55.6912 376.731 Q55.6912 383.837 57.4967 387.402 Q59.3254 390.944 62.9365 390.944 Q66.5707 390.944 68.3763 387.402 Q70.205 383.837 70.205 376.731 Q70.205 369.601 68.3763 366.059 Q66.5707 362.495 62.9365 362.495 M62.9365 358.791 Q68.7467 358.791 71.8022 363.397 Q74.8809 367.981 74.8809 376.731 Q74.8809 385.457 71.8022 390.064 Q68.7467 394.647 62.9365 394.647 Q57.1264 394.647 54.0477 390.064 Q50.9921 385.457 50.9921 376.731 Q50.9921 367.981 54.0477 363.397 Q57.1264 358.791 62.9365 358.791 Z\" fill=\"#000000\" fill-rule=\"evenodd\" fill-opacity=\"1\" /><path clip-path=\"url(#clip450)\" d=\"M83.0984 388.096 L87.9827 388.096 L87.9827 393.976 L83.0984 393.976 L83.0984 388.096 Z\" fill=\"#000000\" fill-rule=\"evenodd\" fill-opacity=\"1\" /><path clip-path=\"url(#clip450)\" d=\"M111.015 363.49 L99.2095 381.939 L111.015 381.939 L111.015 363.49 M109.788 359.416 L115.668 359.416 L115.668 381.939 L120.598 381.939 L120.598 385.828 L115.668 385.828 L115.668 393.976 L111.015 393.976 L111.015 385.828 L95.4132 385.828 L95.4132 381.314 L109.788 359.416 Z\" fill=\"#000000\" fill-rule=\"evenodd\" fill-opacity=\"1\" /><path clip-path=\"url(#clip450)\" d=\"M64.418 73.7074 Q60.8069 73.7074 58.9782 77.2722 Q57.1726 80.8138 57.1726 87.9434 Q57.1726 95.0498 58.9782 98.6146 Q60.8069 102.156 64.418 102.156 Q68.0522 102.156 69.8578 98.6146 Q71.6865 95.0498 71.6865 87.9434 Q71.6865 80.8138 69.8578 77.2722 Q68.0522 73.7074 64.418 73.7074 M64.418 70.0037 Q70.2281 70.0037 73.2837 74.6101 Q76.3624 79.1934 76.3624 87.9434 Q76.3624 96.6702 73.2837 101.277 Q70.2281 105.86 64.418 105.86 Q58.6078 105.86 55.5291 101.277 Q52.4736 96.6702 52.4736 87.9434 Q52.4736 79.1934 55.5291 74.6101 Q58.6078 70.0037 64.418 70.0037 Z\" fill=\"#000000\" fill-rule=\"evenodd\" fill-opacity=\"1\" /><path clip-path=\"url(#clip450)\" d=\"M84.5799 99.3091 L89.4641 99.3091 L89.4641 105.189 L84.5799 105.189 L84.5799 99.3091 Z\" fill=\"#000000\" fill-rule=\"evenodd\" fill-opacity=\"1\" /><path clip-path=\"url(#clip450)\" d=\"M99.6956 70.6287 L118.052 70.6287 L118.052 74.5638 L103.978 74.5638 L103.978 83.036 Q104.996 82.6888 106.015 82.5268 Q107.033 82.3416 108.052 82.3416 Q113.839 82.3416 117.219 85.5129 Q120.598 88.6841 120.598 94.1008 Q120.598 99.6794 117.126 102.781 Q113.654 105.86 107.334 105.86 Q105.159 105.86 102.89 105.49 Q100.645 105.119 98.2372 104.378 L98.2372 99.6794 Q100.321 100.814 102.543 101.369 Q104.765 101.925 107.242 101.925 Q111.246 101.925 113.584 99.8183 Q115.922 97.7119 115.922 94.1008 Q115.922 90.4897 113.584 88.3832 Q111.246 86.2767 107.242 86.2767 Q105.367 86.2767 103.492 86.6934 Q101.64 87.1101 99.6956 87.9897 L99.6956 70.6287 Z\" fill=\"#000000\" fill-rule=\"evenodd\" fill-opacity=\"1\" /><polyline clip-path=\"url(#clip452)\" style=\"stroke:#009af9; stroke-linecap:butt; stroke-linejoin:round; stroke-width:4; stroke-opacity:1; fill:none\" points=\"\n  218.754,87.9763 218.785,94.9764 218.839,107.042 219.013,144.014 219.189,179.132 219.463,229.858 219.99,315.507 220.304,360.297 220.779,420.723 221.591,507.694 \n  222.781,607.742 223.699,669.159 224.691,724.302 227.264,831.138 231.158,935.808 235.774,1015.37 243.562,1098.9 249.118,1138.68 256.64,1178.44 266.254,1215.17 \n  277.985,1247.5 297.886,1285.11 322.187,1315.48 349.488,1338.93 384.353,1359.94 441.625,1382.9 509.869,1400.55 615.694,1417.74 780.361,1432.81 1012.63,1442.91 \n  1166.45,1445.53 1318.95,1445.72 1463.13,1443.71 1596.9,1439.65 1804.77,1427.06 1893.66,1417.74 1974.07,1405.54 2075.55,1380.33 2117.18,1363.75 2154.43,1342.73 \n  2203.89,1295.93 2233.05,1243.47 2245.2,1208.13 2255.5,1165.16 2266.85,1089.86 2270.82,1050.19 2274.42,1003.16 2278.73,924.204 2282.29,824.146 2284.93,710.667 \n  2285.86,656.105 2286.61,605.219 2287.76,507.694 2288.52,426.81 2288.98,369.138 2289.36,315.507 2289.86,235.622 2290.15,181.902 2290.33,145.317 2290.51,107.042 \n  2290.57,94.9764 2290.6,87.9763 \n  \"/>\n<path clip-path=\"url(#clip450)\" d=\"\nM1987.12 198.898 L2279.55 198.898 L2279.55 95.2176 L1987.12 95.2176  Z\n  \" fill=\"#ffffff\" fill-rule=\"evenodd\" fill-opacity=\"1\"/>\n<polyline clip-path=\"url(#clip450)\" style=\"stroke:#000000; stroke-linecap:butt; stroke-linejoin:round; stroke-width:4; stroke-opacity:1; fill:none\" points=\"\n  1987.12,198.898 2279.55,198.898 2279.55,95.2176 1987.12,95.2176 1987.12,198.898 \n  \"/>\n<polyline clip-path=\"url(#clip450)\" style=\"stroke:#009af9; stroke-linecap:butt; stroke-linejoin:round; stroke-width:4; stroke-opacity:1; fill:none\" points=\"\n  2011.12,147.058 2155.12,147.058 \n  \"/>\n<path clip-path=\"url(#clip450)\" d=\"M2192.96 166.745 Q2191.16 171.375 2189.44 172.787 Q2187.73 174.199 2184.86 174.199 L2181.46 174.199 L2181.46 170.634 L2183.96 170.634 Q2185.72 170.634 2186.69 169.8 Q2187.66 168.967 2188.84 165.865 L2189.61 163.921 L2179.12 138.412 L2183.63 138.412 L2191.74 158.689 L2199.84 138.412 L2204.35 138.412 L2192.96 166.745 Z\" fill=\"#000000\" fill-rule=\"evenodd\" fill-opacity=\"1\" /><path clip-path=\"url(#clip450)\" d=\"M2211.64 160.402 L2219.28 160.402 L2219.28 134.037 L2210.97 135.703 L2210.97 131.444 L2219.24 129.778 L2223.91 129.778 L2223.91 160.402 L2231.55 160.402 L2231.55 164.338 L2211.64 164.338 L2211.64 160.402 Z\" fill=\"#000000\" fill-rule=\"evenodd\" fill-opacity=\"1\" /></svg>\n"
     },
     "metadata": {},
     "output_type": "display_data"
    }
   ],
   "source": [
    "p = plot(dnone.τ, real(G_x_none))\n",
    "display(p)"
   ]
  },
  {
   "cell_type": "code",
   "execution_count": 12,
   "metadata": {},
   "outputs": [
    {
     "data": {
      "image/svg+xml": "<?xml version=\"1.0\" encoding=\"utf-8\"?>\n<svg xmlns=\"http://www.w3.org/2000/svg\" xmlns:xlink=\"http://www.w3.org/1999/xlink\" width=\"600\" height=\"400\" viewBox=\"0 0 2400 1600\">\n<defs>\n  <clipPath id=\"clip800\">\n    <rect x=\"0\" y=\"0\" width=\"2400\" height=\"1600\"/>\n  </clipPath>\n</defs>\n<path clip-path=\"url(#clip800)\" d=\"\nM0 1600 L2400 1600 L2400 0 L0 0  Z\n  \" fill=\"#ffffff\" fill-rule=\"evenodd\" fill-opacity=\"1\"/>\n<defs>\n  <clipPath id=\"clip801\">\n    <rect x=\"480\" y=\"0\" width=\"1681\" height=\"1600\"/>\n  </clipPath>\n</defs>\n<path clip-path=\"url(#clip800)\" d=\"\nM156.598 1486.45 L2352.76 1486.45 L2352.76 47.2441 L156.598 47.2441  Z\n  \" fill=\"#ffffff\" fill-rule=\"evenodd\" fill-opacity=\"1\"/>\n<defs>\n  <clipPath id=\"clip802\">\n    <rect x=\"156\" y=\"47\" width=\"2197\" height=\"1440\"/>\n  </clipPath>\n</defs>\n<polyline clip-path=\"url(#clip802)\" style=\"stroke:#000000; stroke-linecap:butt; stroke-linejoin:round; stroke-width:2; stroke-opacity:0.1; fill:none\" points=\"\n  218.754,1486.45 218.754,47.2441 \n  \"/>\n<polyline clip-path=\"url(#clip802)\" style=\"stroke:#000000; stroke-linecap:butt; stroke-linejoin:round; stroke-width:2; stroke-opacity:0.1; fill:none\" points=\"\n  633.131,1486.45 633.131,47.2441 \n  \"/>\n<polyline clip-path=\"url(#clip802)\" style=\"stroke:#000000; stroke-linecap:butt; stroke-linejoin:round; stroke-width:2; stroke-opacity:0.1; fill:none\" points=\"\n  1047.51,1486.45 1047.51,47.2441 \n  \"/>\n<polyline clip-path=\"url(#clip802)\" style=\"stroke:#000000; stroke-linecap:butt; stroke-linejoin:round; stroke-width:2; stroke-opacity:0.1; fill:none\" points=\"\n  1461.89,1486.45 1461.89,47.2441 \n  \"/>\n<polyline clip-path=\"url(#clip802)\" style=\"stroke:#000000; stroke-linecap:butt; stroke-linejoin:round; stroke-width:2; stroke-opacity:0.1; fill:none\" points=\"\n  1876.26,1486.45 1876.26,47.2441 \n  \"/>\n<polyline clip-path=\"url(#clip802)\" style=\"stroke:#000000; stroke-linecap:butt; stroke-linejoin:round; stroke-width:2; stroke-opacity:0.1; fill:none\" points=\"\n  2290.64,1486.45 2290.64,47.2441 \n  \"/>\n<polyline clip-path=\"url(#clip800)\" style=\"stroke:#000000; stroke-linecap:butt; stroke-linejoin:round; stroke-width:4; stroke-opacity:1; fill:none\" points=\"\n  156.598,1486.45 2352.76,1486.45 \n  \"/>\n<polyline clip-path=\"url(#clip800)\" style=\"stroke:#000000; stroke-linecap:butt; stroke-linejoin:round; stroke-width:4; stroke-opacity:1; fill:none\" points=\"\n  218.754,1486.45 218.754,1467.55 \n  \"/>\n<polyline clip-path=\"url(#clip800)\" style=\"stroke:#000000; stroke-linecap:butt; stroke-linejoin:round; stroke-width:4; stroke-opacity:1; fill:none\" points=\"\n  633.131,1486.45 633.131,1467.55 \n  \"/>\n<polyline clip-path=\"url(#clip800)\" style=\"stroke:#000000; stroke-linecap:butt; stroke-linejoin:round; stroke-width:4; stroke-opacity:1; fill:none\" points=\"\n  1047.51,1486.45 1047.51,1467.55 \n  \"/>\n<polyline clip-path=\"url(#clip800)\" style=\"stroke:#000000; stroke-linecap:butt; stroke-linejoin:round; stroke-width:4; stroke-opacity:1; fill:none\" points=\"\n  1461.89,1486.45 1461.89,1467.55 \n  \"/>\n<polyline clip-path=\"url(#clip800)\" style=\"stroke:#000000; stroke-linecap:butt; stroke-linejoin:round; stroke-width:4; stroke-opacity:1; fill:none\" points=\"\n  1876.26,1486.45 1876.26,1467.55 \n  \"/>\n<polyline clip-path=\"url(#clip800)\" style=\"stroke:#000000; stroke-linecap:butt; stroke-linejoin:round; stroke-width:4; stroke-opacity:1; fill:none\" points=\"\n  2290.64,1486.45 2290.64,1467.55 \n  \"/>\n<path clip-path=\"url(#clip800)\" d=\"M218.754 1517.37 Q215.143 1517.37 213.314 1520.93 Q211.508 1524.47 211.508 1531.6 Q211.508 1538.71 213.314 1542.27 Q215.143 1545.82 218.754 1545.82 Q222.388 1545.82 224.193 1542.27 Q226.022 1538.71 226.022 1531.6 Q226.022 1524.47 224.193 1520.93 Q222.388 1517.37 218.754 1517.37 M218.754 1513.66 Q224.564 1513.66 227.619 1518.27 Q230.698 1522.85 230.698 1531.6 Q230.698 1540.33 227.619 1544.94 Q224.564 1549.52 218.754 1549.52 Q212.943 1549.52 209.865 1544.94 Q206.809 1540.33 206.809 1531.6 Q206.809 1522.85 209.865 1518.27 Q212.943 1513.66 218.754 1513.66 Z\" fill=\"#000000\" fill-rule=\"evenodd\" fill-opacity=\"1\" /><path clip-path=\"url(#clip800)\" d=\"M577.657 1544.91 L585.295 1544.91 L585.295 1518.55 L576.985 1520.21 L576.985 1515.95 L585.249 1514.29 L589.925 1514.29 L589.925 1544.91 L597.564 1544.91 L597.564 1548.85 L577.657 1548.85 L577.657 1544.91 Z\" fill=\"#000000\" fill-rule=\"evenodd\" fill-opacity=\"1\" /><path clip-path=\"url(#clip800)\" d=\"M617.008 1517.37 Q613.397 1517.37 611.568 1520.93 Q609.763 1524.47 609.763 1531.6 Q609.763 1538.71 611.568 1542.27 Q613.397 1545.82 617.008 1545.82 Q620.642 1545.82 622.448 1542.27 Q624.277 1538.71 624.277 1531.6 Q624.277 1524.47 622.448 1520.93 Q620.642 1517.37 617.008 1517.37 M617.008 1513.66 Q622.818 1513.66 625.874 1518.27 Q628.953 1522.85 628.953 1531.6 Q628.953 1540.33 625.874 1544.94 Q622.818 1549.52 617.008 1549.52 Q611.198 1549.52 608.119 1544.94 Q605.064 1540.33 605.064 1531.6 Q605.064 1522.85 608.119 1518.27 Q611.198 1513.66 617.008 1513.66 Z\" fill=\"#000000\" fill-rule=\"evenodd\" fill-opacity=\"1\" /><path clip-path=\"url(#clip800)\" d=\"M647.17 1517.37 Q643.559 1517.37 641.73 1520.93 Q639.925 1524.47 639.925 1531.6 Q639.925 1538.71 641.73 1542.27 Q643.559 1545.82 647.17 1545.82 Q650.804 1545.82 652.61 1542.27 Q654.439 1538.71 654.439 1531.6 Q654.439 1524.47 652.61 1520.93 Q650.804 1517.37 647.17 1517.37 M647.17 1513.66 Q652.98 1513.66 656.036 1518.27 Q659.114 1522.85 659.114 1531.6 Q659.114 1540.33 656.036 1544.94 Q652.98 1549.52 647.17 1549.52 Q641.36 1549.52 638.281 1544.94 Q635.226 1540.33 635.226 1531.6 Q635.226 1522.85 638.281 1518.27 Q641.36 1513.66 647.17 1513.66 Z\" fill=\"#000000\" fill-rule=\"evenodd\" fill-opacity=\"1\" /><path clip-path=\"url(#clip800)\" d=\"M677.332 1517.37 Q673.721 1517.37 671.892 1520.93 Q670.087 1524.47 670.087 1531.6 Q670.087 1538.71 671.892 1542.27 Q673.721 1545.82 677.332 1545.82 Q680.966 1545.82 682.772 1542.27 Q684.6 1538.71 684.6 1531.6 Q684.6 1524.47 682.772 1520.93 Q680.966 1517.37 677.332 1517.37 M677.332 1513.66 Q683.142 1513.66 686.198 1518.27 Q689.276 1522.85 689.276 1531.6 Q689.276 1540.33 686.198 1544.94 Q683.142 1549.52 677.332 1549.52 Q671.522 1549.52 668.443 1544.94 Q665.388 1540.33 665.388 1531.6 Q665.388 1522.85 668.443 1518.27 Q671.522 1513.66 677.332 1513.66 Z\" fill=\"#000000\" fill-rule=\"evenodd\" fill-opacity=\"1\" /><path clip-path=\"url(#clip800)\" d=\"M996.119 1544.91 L1012.44 1544.91 L1012.44 1548.85 L990.494 1548.85 L990.494 1544.91 Q993.156 1542.16 997.74 1537.53 Q1002.35 1532.88 1003.53 1531.53 Q1005.77 1529.01 1006.65 1527.27 Q1007.55 1525.51 1007.55 1523.82 Q1007.55 1521.07 1005.61 1519.33 Q1003.69 1517.6 1000.59 1517.6 Q998.388 1517.6 995.934 1518.36 Q993.504 1519.13 990.726 1520.68 L990.726 1515.95 Q993.55 1514.82 996.004 1514.24 Q998.457 1513.66 1000.49 1513.66 Q1005.86 1513.66 1009.06 1516.35 Q1012.25 1519.03 1012.25 1523.52 Q1012.25 1525.65 1011.44 1527.57 Q1010.66 1529.47 1008.55 1532.07 Q1007.97 1532.74 1004.87 1535.95 Q1001.77 1539.15 996.119 1544.91 Z\" fill=\"#000000\" fill-rule=\"evenodd\" fill-opacity=\"1\" /><path clip-path=\"url(#clip800)\" d=\"M1032.25 1517.37 Q1028.64 1517.37 1026.81 1520.93 Q1025.01 1524.47 1025.01 1531.6 Q1025.01 1538.71 1026.81 1542.27 Q1028.64 1545.82 1032.25 1545.82 Q1035.89 1545.82 1037.69 1542.27 Q1039.52 1538.71 1039.52 1531.6 Q1039.52 1524.47 1037.69 1520.93 Q1035.89 1517.37 1032.25 1517.37 M1032.25 1513.66 Q1038.06 1513.66 1041.12 1518.27 Q1044.2 1522.85 1044.2 1531.6 Q1044.2 1540.33 1041.12 1544.94 Q1038.06 1549.52 1032.25 1549.52 Q1026.44 1549.52 1023.36 1544.94 Q1020.31 1540.33 1020.31 1531.6 Q1020.31 1522.85 1023.36 1518.27 Q1026.44 1513.66 1032.25 1513.66 Z\" fill=\"#000000\" fill-rule=\"evenodd\" fill-opacity=\"1\" /><path clip-path=\"url(#clip800)\" d=\"M1062.42 1517.37 Q1058.8 1517.37 1056.98 1520.93 Q1055.17 1524.47 1055.17 1531.6 Q1055.17 1538.71 1056.98 1542.27 Q1058.8 1545.82 1062.42 1545.82 Q1066.05 1545.82 1067.86 1542.27 Q1069.68 1538.71 1069.68 1531.6 Q1069.68 1524.47 1067.86 1520.93 Q1066.05 1517.37 1062.42 1517.37 M1062.42 1513.66 Q1068.23 1513.66 1071.28 1518.27 Q1074.36 1522.85 1074.36 1531.6 Q1074.36 1540.33 1071.28 1544.94 Q1068.23 1549.52 1062.42 1549.52 Q1056.61 1549.52 1053.53 1544.94 Q1050.47 1540.33 1050.47 1531.6 Q1050.47 1522.85 1053.53 1518.27 Q1056.61 1513.66 1062.42 1513.66 Z\" fill=\"#000000\" fill-rule=\"evenodd\" fill-opacity=\"1\" /><path clip-path=\"url(#clip800)\" d=\"M1092.58 1517.37 Q1088.97 1517.37 1087.14 1520.93 Q1085.33 1524.47 1085.33 1531.6 Q1085.33 1538.71 1087.14 1542.27 Q1088.97 1545.82 1092.58 1545.82 Q1096.21 1545.82 1098.02 1542.27 Q1099.85 1538.71 1099.85 1531.6 Q1099.85 1524.47 1098.02 1520.93 Q1096.21 1517.37 1092.58 1517.37 M1092.58 1513.66 Q1098.39 1513.66 1101.44 1518.27 Q1104.52 1522.85 1104.52 1531.6 Q1104.52 1540.33 1101.44 1544.94 Q1098.39 1549.52 1092.58 1549.52 Q1086.77 1549.52 1083.69 1544.94 Q1080.63 1540.33 1080.63 1531.6 Q1080.63 1522.85 1083.69 1518.27 Q1086.77 1513.66 1092.58 1513.66 Z\" fill=\"#000000\" fill-rule=\"evenodd\" fill-opacity=\"1\" /><path clip-path=\"url(#clip800)\" d=\"M1420.57 1530.21 Q1423.92 1530.93 1425.8 1533.2 Q1427.7 1535.47 1427.7 1538.8 Q1427.7 1543.92 1424.18 1546.72 Q1420.66 1549.52 1414.18 1549.52 Q1412 1549.52 1409.69 1549.08 Q1407.39 1548.66 1404.94 1547.81 L1404.94 1543.29 Q1406.89 1544.43 1409.2 1545.01 Q1411.52 1545.58 1414.04 1545.58 Q1418.44 1545.58 1420.73 1543.85 Q1423.04 1542.11 1423.04 1538.8 Q1423.04 1535.75 1420.89 1534.03 Q1418.76 1532.3 1414.94 1532.3 L1410.91 1532.3 L1410.91 1528.45 L1415.13 1528.45 Q1418.58 1528.45 1420.4 1527.09 Q1422.23 1525.7 1422.23 1523.11 Q1422.23 1520.45 1420.33 1519.03 Q1418.46 1517.6 1414.94 1517.6 Q1413.02 1517.6 1410.82 1518.01 Q1408.62 1518.43 1405.98 1519.31 L1405.98 1515.14 Q1408.64 1514.4 1410.96 1514.03 Q1413.3 1513.66 1415.36 1513.66 Q1420.68 1513.66 1423.78 1516.09 Q1426.89 1518.5 1426.89 1522.62 Q1426.89 1525.49 1425.24 1527.48 Q1423.6 1529.45 1420.57 1530.21 Z\" fill=\"#000000\" fill-rule=\"evenodd\" fill-opacity=\"1\" /><path clip-path=\"url(#clip800)\" d=\"M1446.56 1517.37 Q1442.95 1517.37 1441.12 1520.93 Q1439.32 1524.47 1439.32 1531.6 Q1439.32 1538.71 1441.12 1542.27 Q1442.95 1545.82 1446.56 1545.82 Q1450.2 1545.82 1452 1542.27 Q1453.83 1538.71 1453.83 1531.6 Q1453.83 1524.47 1452 1520.93 Q1450.2 1517.37 1446.56 1517.37 M1446.56 1513.66 Q1452.37 1513.66 1455.43 1518.27 Q1458.51 1522.85 1458.51 1531.6 Q1458.51 1540.33 1455.43 1544.94 Q1452.37 1549.52 1446.56 1549.52 Q1440.75 1549.52 1437.67 1544.94 Q1434.62 1540.33 1434.62 1531.6 Q1434.62 1522.85 1437.67 1518.27 Q1440.75 1513.66 1446.56 1513.66 Z\" fill=\"#000000\" fill-rule=\"evenodd\" fill-opacity=\"1\" /><path clip-path=\"url(#clip800)\" d=\"M1476.72 1517.37 Q1473.11 1517.37 1471.28 1520.93 Q1469.48 1524.47 1469.48 1531.6 Q1469.48 1538.71 1471.28 1542.27 Q1473.11 1545.82 1476.72 1545.82 Q1480.36 1545.82 1482.16 1542.27 Q1483.99 1538.71 1483.99 1531.6 Q1483.99 1524.47 1482.16 1520.93 Q1480.36 1517.37 1476.72 1517.37 M1476.72 1513.66 Q1482.53 1513.66 1485.59 1518.27 Q1488.67 1522.85 1488.67 1531.6 Q1488.67 1540.33 1485.59 1544.94 Q1482.53 1549.52 1476.72 1549.52 Q1470.91 1549.52 1467.83 1544.94 Q1464.78 1540.33 1464.78 1531.6 Q1464.78 1522.85 1467.83 1518.27 Q1470.91 1513.66 1476.72 1513.66 Z\" fill=\"#000000\" fill-rule=\"evenodd\" fill-opacity=\"1\" /><path clip-path=\"url(#clip800)\" d=\"M1506.88 1517.37 Q1503.27 1517.37 1501.45 1520.93 Q1499.64 1524.47 1499.64 1531.6 Q1499.64 1538.71 1501.45 1542.27 Q1503.27 1545.82 1506.88 1545.82 Q1510.52 1545.82 1512.32 1542.27 Q1514.15 1538.71 1514.15 1531.6 Q1514.15 1524.47 1512.32 1520.93 Q1510.52 1517.37 1506.88 1517.37 M1506.88 1513.66 Q1512.7 1513.66 1515.75 1518.27 Q1518.83 1522.85 1518.83 1531.6 Q1518.83 1540.33 1515.75 1544.94 Q1512.7 1549.52 1506.88 1549.52 Q1501.07 1549.52 1498 1544.94 Q1494.94 1540.33 1494.94 1531.6 Q1494.94 1522.85 1498 1518.27 Q1501.07 1513.66 1506.88 1513.66 Z\" fill=\"#000000\" fill-rule=\"evenodd\" fill-opacity=\"1\" /><path clip-path=\"url(#clip800)\" d=\"M1834.27 1518.36 L1822.47 1536.81 L1834.27 1536.81 L1834.27 1518.36 M1833.04 1514.29 L1838.92 1514.29 L1838.92 1536.81 L1843.86 1536.81 L1843.86 1540.7 L1838.92 1540.7 L1838.92 1548.85 L1834.27 1548.85 L1834.27 1540.7 L1818.67 1540.7 L1818.67 1536.19 L1833.04 1514.29 Z\" fill=\"#000000\" fill-rule=\"evenodd\" fill-opacity=\"1\" /><path clip-path=\"url(#clip800)\" d=\"M1861.59 1517.37 Q1857.98 1517.37 1856.15 1520.93 Q1854.34 1524.47 1854.34 1531.6 Q1854.34 1538.71 1856.15 1542.27 Q1857.98 1545.82 1861.59 1545.82 Q1865.22 1545.82 1867.03 1542.27 Q1868.85 1538.71 1868.85 1531.6 Q1868.85 1524.47 1867.03 1520.93 Q1865.22 1517.37 1861.59 1517.37 M1861.59 1513.66 Q1867.4 1513.66 1870.45 1518.27 Q1873.53 1522.85 1873.53 1531.6 Q1873.53 1540.33 1870.45 1544.94 Q1867.4 1549.52 1861.59 1549.52 Q1855.78 1549.52 1852.7 1544.94 Q1849.64 1540.33 1849.64 1531.6 Q1849.64 1522.85 1852.7 1518.27 Q1855.78 1513.66 1861.59 1513.66 Z\" fill=\"#000000\" fill-rule=\"evenodd\" fill-opacity=\"1\" /><path clip-path=\"url(#clip800)\" d=\"M1891.75 1517.37 Q1888.14 1517.37 1886.31 1520.93 Q1884.5 1524.47 1884.5 1531.6 Q1884.5 1538.71 1886.31 1542.27 Q1888.14 1545.82 1891.75 1545.82 Q1895.38 1545.82 1897.19 1542.27 Q1899.02 1538.71 1899.02 1531.6 Q1899.02 1524.47 1897.19 1520.93 Q1895.38 1517.37 1891.75 1517.37 M1891.75 1513.66 Q1897.56 1513.66 1900.61 1518.27 Q1903.69 1522.85 1903.69 1531.6 Q1903.69 1540.33 1900.61 1544.94 Q1897.56 1549.52 1891.75 1549.52 Q1885.94 1549.52 1882.86 1544.94 Q1879.8 1540.33 1879.8 1531.6 Q1879.8 1522.85 1882.86 1518.27 Q1885.94 1513.66 1891.75 1513.66 Z\" fill=\"#000000\" fill-rule=\"evenodd\" fill-opacity=\"1\" /><path clip-path=\"url(#clip800)\" d=\"M1921.91 1517.37 Q1918.3 1517.37 1916.47 1520.93 Q1914.66 1524.47 1914.66 1531.6 Q1914.66 1538.71 1916.47 1542.27 Q1918.3 1545.82 1921.91 1545.82 Q1925.54 1545.82 1927.35 1542.27 Q1929.18 1538.71 1929.18 1531.6 Q1929.18 1524.47 1927.35 1520.93 Q1925.54 1517.37 1921.91 1517.37 M1921.91 1513.66 Q1927.72 1513.66 1930.78 1518.27 Q1933.85 1522.85 1933.85 1531.6 Q1933.85 1540.33 1930.78 1544.94 Q1927.72 1549.52 1921.91 1549.52 Q1916.1 1549.52 1913.02 1544.94 Q1909.97 1540.33 1909.97 1531.6 Q1909.97 1522.85 1913.02 1518.27 Q1916.1 1513.66 1921.91 1513.66 Z\" fill=\"#000000\" fill-rule=\"evenodd\" fill-opacity=\"1\" /><path clip-path=\"url(#clip800)\" d=\"M2235.18 1514.29 L2253.53 1514.29 L2253.53 1518.22 L2239.46 1518.22 L2239.46 1526.7 Q2240.48 1526.35 2241.5 1526.19 Q2242.51 1526 2243.53 1526 Q2249.32 1526 2252.7 1529.17 Q2256.08 1532.34 2256.08 1537.76 Q2256.08 1543.34 2252.61 1546.44 Q2249.14 1549.52 2242.82 1549.52 Q2240.64 1549.52 2238.37 1549.15 Q2236.13 1548.78 2233.72 1548.04 L2233.72 1543.34 Q2235.8 1544.47 2238.02 1545.03 Q2240.25 1545.58 2242.72 1545.58 Q2246.73 1545.58 2249.07 1543.48 Q2251.4 1541.37 2251.4 1537.76 Q2251.4 1534.15 2249.07 1532.04 Q2246.73 1529.94 2242.72 1529.94 Q2240.85 1529.94 2238.97 1530.35 Q2237.12 1530.77 2235.18 1531.65 L2235.18 1514.29 Z\" fill=\"#000000\" fill-rule=\"evenodd\" fill-opacity=\"1\" /><path clip-path=\"url(#clip800)\" d=\"M2275.29 1517.37 Q2271.68 1517.37 2269.85 1520.93 Q2268.05 1524.47 2268.05 1531.6 Q2268.05 1538.71 2269.85 1542.27 Q2271.68 1545.82 2275.29 1545.82 Q2278.93 1545.82 2280.73 1542.27 Q2282.56 1538.71 2282.56 1531.6 Q2282.56 1524.47 2280.73 1520.93 Q2278.93 1517.37 2275.29 1517.37 M2275.29 1513.66 Q2281.1 1513.66 2284.16 1518.27 Q2287.24 1522.85 2287.24 1531.6 Q2287.24 1540.33 2284.16 1544.94 Q2281.1 1549.52 2275.29 1549.52 Q2269.48 1549.52 2266.4 1544.94 Q2263.35 1540.33 2263.35 1531.6 Q2263.35 1522.85 2266.4 1518.27 Q2269.48 1513.66 2275.29 1513.66 Z\" fill=\"#000000\" fill-rule=\"evenodd\" fill-opacity=\"1\" /><path clip-path=\"url(#clip800)\" d=\"M2305.45 1517.37 Q2301.84 1517.37 2300.01 1520.93 Q2298.21 1524.47 2298.21 1531.6 Q2298.21 1538.71 2300.01 1542.27 Q2301.84 1545.82 2305.45 1545.82 Q2309.09 1545.82 2310.89 1542.27 Q2312.72 1538.71 2312.72 1531.6 Q2312.72 1524.47 2310.89 1520.93 Q2309.09 1517.37 2305.45 1517.37 M2305.45 1513.66 Q2311.26 1513.66 2314.32 1518.27 Q2317.4 1522.85 2317.4 1531.6 Q2317.4 1540.33 2314.32 1544.94 Q2311.26 1549.52 2305.45 1549.52 Q2299.64 1549.52 2296.57 1544.94 Q2293.51 1540.33 2293.51 1531.6 Q2293.51 1522.85 2296.57 1518.27 Q2299.64 1513.66 2305.45 1513.66 Z\" fill=\"#000000\" fill-rule=\"evenodd\" fill-opacity=\"1\" /><path clip-path=\"url(#clip800)\" d=\"M2335.62 1517.37 Q2332.01 1517.37 2330.18 1520.93 Q2328.37 1524.47 2328.37 1531.6 Q2328.37 1538.71 2330.18 1542.27 Q2332.01 1545.82 2335.62 1545.82 Q2339.25 1545.82 2341.06 1542.27 Q2342.88 1538.71 2342.88 1531.6 Q2342.88 1524.47 2341.06 1520.93 Q2339.25 1517.37 2335.62 1517.37 M2335.62 1513.66 Q2341.43 1513.66 2344.48 1518.27 Q2347.56 1522.85 2347.56 1531.6 Q2347.56 1540.33 2344.48 1544.94 Q2341.43 1549.52 2335.62 1549.52 Q2329.81 1549.52 2326.73 1544.94 Q2323.67 1540.33 2323.67 1531.6 Q2323.67 1522.85 2326.73 1518.27 Q2329.81 1513.66 2335.62 1513.66 Z\" fill=\"#000000\" fill-rule=\"evenodd\" fill-opacity=\"1\" /><polyline clip-path=\"url(#clip802)\" style=\"stroke:#000000; stroke-linecap:butt; stroke-linejoin:round; stroke-width:2; stroke-opacity:0.1; fill:none\" points=\"\n  156.598,1471.77 2352.76,1471.77 \n  \"/>\n<polyline clip-path=\"url(#clip802)\" style=\"stroke:#000000; stroke-linecap:butt; stroke-linejoin:round; stroke-width:2; stroke-opacity:0.1; fill:none\" points=\"\n  156.598,1195.01 2352.76,1195.01 \n  \"/>\n<polyline clip-path=\"url(#clip802)\" style=\"stroke:#000000; stroke-linecap:butt; stroke-linejoin:round; stroke-width:2; stroke-opacity:0.1; fill:none\" points=\"\n  156.598,918.249 2352.76,918.249 \n  \"/>\n<polyline clip-path=\"url(#clip802)\" style=\"stroke:#000000; stroke-linecap:butt; stroke-linejoin:round; stroke-width:2; stroke-opacity:0.1; fill:none\" points=\"\n  156.598,641.49 2352.76,641.49 \n  \"/>\n<polyline clip-path=\"url(#clip802)\" style=\"stroke:#000000; stroke-linecap:butt; stroke-linejoin:round; stroke-width:2; stroke-opacity:0.1; fill:none\" points=\"\n  156.598,364.731 2352.76,364.731 \n  \"/>\n<polyline clip-path=\"url(#clip802)\" style=\"stroke:#000000; stroke-linecap:butt; stroke-linejoin:round; stroke-width:2; stroke-opacity:0.1; fill:none\" points=\"\n  156.598,87.9711 2352.76,87.9711 \n  \"/>\n<polyline clip-path=\"url(#clip800)\" style=\"stroke:#000000; stroke-linecap:butt; stroke-linejoin:round; stroke-width:4; stroke-opacity:1; fill:none\" points=\"\n  156.598,1486.45 156.598,47.2441 \n  \"/>\n<polyline clip-path=\"url(#clip800)\" style=\"stroke:#000000; stroke-linecap:butt; stroke-linejoin:round; stroke-width:4; stroke-opacity:1; fill:none\" points=\"\n  156.598,1471.77 175.496,1471.77 \n  \"/>\n<polyline clip-path=\"url(#clip800)\" style=\"stroke:#000000; stroke-linecap:butt; stroke-linejoin:round; stroke-width:4; stroke-opacity:1; fill:none\" points=\"\n  156.598,1195.01 175.496,1195.01 \n  \"/>\n<polyline clip-path=\"url(#clip800)\" style=\"stroke:#000000; stroke-linecap:butt; stroke-linejoin:round; stroke-width:4; stroke-opacity:1; fill:none\" points=\"\n  156.598,918.249 175.496,918.249 \n  \"/>\n<polyline clip-path=\"url(#clip800)\" style=\"stroke:#000000; stroke-linecap:butt; stroke-linejoin:round; stroke-width:4; stroke-opacity:1; fill:none\" points=\"\n  156.598,641.49 175.496,641.49 \n  \"/>\n<polyline clip-path=\"url(#clip800)\" style=\"stroke:#000000; stroke-linecap:butt; stroke-linejoin:round; stroke-width:4; stroke-opacity:1; fill:none\" points=\"\n  156.598,364.731 175.496,364.731 \n  \"/>\n<polyline clip-path=\"url(#clip800)\" style=\"stroke:#000000; stroke-linecap:butt; stroke-linejoin:round; stroke-width:4; stroke-opacity:1; fill:none\" points=\"\n  156.598,87.9711 175.496,87.9711 \n  \"/>\n<path clip-path=\"url(#clip800)\" d=\"M63.4226 1457.57 Q59.8115 1457.57 57.9828 1461.13 Q56.1773 1464.67 56.1773 1471.8 Q56.1773 1478.91 57.9828 1482.47 Q59.8115 1486.02 63.4226 1486.02 Q67.0569 1486.02 68.8624 1482.47 Q70.6911 1478.91 70.6911 1471.8 Q70.6911 1464.67 68.8624 1461.13 Q67.0569 1457.57 63.4226 1457.57 M63.4226 1453.86 Q69.2328 1453.86 72.2883 1458.47 Q75.367 1463.05 75.367 1471.8 Q75.367 1480.53 72.2883 1485.14 Q69.2328 1489.72 63.4226 1489.72 Q57.6125 1489.72 54.5338 1485.14 Q51.4782 1480.53 51.4782 1471.8 Q51.4782 1463.05 54.5338 1458.47 Q57.6125 1453.86 63.4226 1453.86 Z\" fill=\"#000000\" fill-rule=\"evenodd\" fill-opacity=\"1\" /><path clip-path=\"url(#clip800)\" d=\"M83.5845 1483.17 L88.4688 1483.17 L88.4688 1489.05 L83.5845 1489.05 L83.5845 1483.17 Z\" fill=\"#000000\" fill-rule=\"evenodd\" fill-opacity=\"1\" /><path clip-path=\"url(#clip800)\" d=\"M108.654 1457.57 Q105.043 1457.57 103.214 1461.13 Q101.409 1464.67 101.409 1471.8 Q101.409 1478.91 103.214 1482.47 Q105.043 1486.02 108.654 1486.02 Q112.288 1486.02 114.094 1482.47 Q115.922 1478.91 115.922 1471.8 Q115.922 1464.67 114.094 1461.13 Q112.288 1457.57 108.654 1457.57 M108.654 1453.86 Q114.464 1453.86 117.52 1458.47 Q120.598 1463.05 120.598 1471.8 Q120.598 1480.53 117.52 1485.14 Q114.464 1489.72 108.654 1489.72 Q102.844 1489.72 99.765 1485.14 Q96.7095 1480.53 96.7095 1471.8 Q96.7095 1463.05 99.765 1458.47 Q102.844 1453.86 108.654 1453.86 Z\" fill=\"#000000\" fill-rule=\"evenodd\" fill-opacity=\"1\" /><path clip-path=\"url(#clip800)\" d=\"M64.6495 1180.81 Q61.0384 1180.81 59.2097 1184.37 Q57.4041 1187.91 57.4041 1195.04 Q57.4041 1202.15 59.2097 1205.71 Q61.0384 1209.26 64.6495 1209.26 Q68.2837 1209.26 70.0892 1205.71 Q71.9179 1202.15 71.9179 1195.04 Q71.9179 1187.91 70.0892 1184.37 Q68.2837 1180.81 64.6495 1180.81 M64.6495 1177.1 Q70.4596 1177.1 73.5152 1181.71 Q76.5938 1186.29 76.5938 1195.04 Q76.5938 1203.77 73.5152 1208.38 Q70.4596 1212.96 64.6495 1212.96 Q58.8393 1212.96 55.7606 1208.38 Q52.7051 1203.77 52.7051 1195.04 Q52.7051 1186.29 55.7606 1181.71 Q58.8393 1177.1 64.6495 1177.1 Z\" fill=\"#000000\" fill-rule=\"evenodd\" fill-opacity=\"1\" /><path clip-path=\"url(#clip800)\" d=\"M84.8114 1206.41 L89.6956 1206.41 L89.6956 1212.29 L84.8114 1212.29 L84.8114 1206.41 Z\" fill=\"#000000\" fill-rule=\"evenodd\" fill-opacity=\"1\" /><path clip-path=\"url(#clip800)\" d=\"M100.691 1208.35 L108.33 1208.35 L108.33 1181.99 L100.02 1183.65 L100.02 1179.4 L108.283 1177.73 L112.959 1177.73 L112.959 1208.35 L120.598 1208.35 L120.598 1212.29 L100.691 1212.29 L100.691 1208.35 Z\" fill=\"#000000\" fill-rule=\"evenodd\" fill-opacity=\"1\" /><path clip-path=\"url(#clip800)\" d=\"M65.0198 904.048 Q61.4087 904.048 59.58 907.613 Q57.7745 911.155 57.7745 918.284 Q57.7745 925.391 59.58 928.955 Q61.4087 932.497 65.0198 932.497 Q68.6541 932.497 70.4596 928.955 Q72.2883 925.391 72.2883 918.284 Q72.2883 911.155 70.4596 907.613 Q68.6541 904.048 65.0198 904.048 M65.0198 900.344 Q70.83 900.344 73.8855 904.951 Q76.9642 909.534 76.9642 918.284 Q76.9642 927.011 73.8855 931.617 Q70.83 936.201 65.0198 936.201 Q59.2097 936.201 56.131 931.617 Q53.0754 927.011 53.0754 918.284 Q53.0754 909.534 56.131 904.951 Q59.2097 900.344 65.0198 900.344 Z\" fill=\"#000000\" fill-rule=\"evenodd\" fill-opacity=\"1\" /><path clip-path=\"url(#clip800)\" d=\"M85.1818 929.65 L90.066 929.65 L90.066 935.529 L85.1818 935.529 L85.1818 929.65 Z\" fill=\"#000000\" fill-rule=\"evenodd\" fill-opacity=\"1\" /><path clip-path=\"url(#clip800)\" d=\"M104.279 931.594 L120.598 931.594 L120.598 935.529 L98.6539 935.529 L98.6539 931.594 Q101.316 928.84 105.899 924.21 Q110.506 919.557 111.686 918.215 Q113.932 915.692 114.811 913.955 Q115.714 912.196 115.714 910.506 Q115.714 907.752 113.77 906.016 Q111.848 904.28 108.746 904.28 Q106.547 904.28 104.094 905.044 Q101.663 905.807 98.8854 907.358 L98.8854 902.636 Q101.709 901.502 104.163 900.923 Q106.617 900.344 108.654 900.344 Q114.024 900.344 117.219 903.03 Q120.413 905.715 120.413 910.206 Q120.413 912.335 119.603 914.256 Q118.816 916.155 116.709 918.747 Q116.131 919.418 113.029 922.636 Q109.927 925.83 104.279 931.594 Z\" fill=\"#000000\" fill-rule=\"evenodd\" fill-opacity=\"1\" /><path clip-path=\"url(#clip800)\" d=\"M64.0708 627.289 Q60.4597 627.289 58.631 630.853 Q56.8254 634.395 56.8254 641.525 Q56.8254 648.631 58.631 652.196 Q60.4597 655.738 64.0708 655.738 Q67.705 655.738 69.5105 652.196 Q71.3392 648.631 71.3392 641.525 Q71.3392 634.395 69.5105 630.853 Q67.705 627.289 64.0708 627.289 M64.0708 623.585 Q69.8809 623.585 72.9365 628.191 Q76.0151 632.775 76.0151 641.525 Q76.0151 650.252 72.9365 654.858 Q69.8809 659.441 64.0708 659.441 Q58.2606 659.441 55.1819 654.858 Q52.1264 650.252 52.1264 641.525 Q52.1264 632.775 55.1819 628.191 Q58.2606 623.585 64.0708 623.585 Z\" fill=\"#000000\" fill-rule=\"evenodd\" fill-opacity=\"1\" /><path clip-path=\"url(#clip800)\" d=\"M84.2327 652.89 L89.1169 652.89 L89.1169 658.77 L84.2327 658.77 L84.2327 652.89 Z\" fill=\"#000000\" fill-rule=\"evenodd\" fill-opacity=\"1\" /><path clip-path=\"url(#clip800)\" d=\"M113.469 640.136 Q116.825 640.853 118.7 643.122 Q120.598 645.39 120.598 648.724 Q120.598 653.839 117.08 656.64 Q113.561 659.441 107.08 659.441 Q104.904 659.441 102.589 659.001 Q100.297 658.585 97.8437 657.728 L97.8437 653.214 Q99.7882 654.349 102.103 654.927 Q104.418 655.506 106.941 655.506 Q111.339 655.506 113.631 653.77 Q115.945 652.034 115.945 648.724 Q115.945 645.668 113.793 643.955 Q111.663 642.219 107.844 642.219 L103.816 642.219 L103.816 638.377 L108.029 638.377 Q111.478 638.377 113.307 637.011 Q115.135 635.622 115.135 633.029 Q115.135 630.367 113.237 628.955 Q111.362 627.52 107.844 627.52 Q105.922 627.52 103.723 627.937 Q101.524 628.353 98.8854 629.233 L98.8854 625.066 Q101.547 624.326 103.862 623.955 Q106.2 623.585 108.26 623.585 Q113.584 623.585 116.686 626.016 Q119.788 628.423 119.788 632.543 Q119.788 635.414 118.145 637.404 Q116.501 639.372 113.469 640.136 Z\" fill=\"#000000\" fill-rule=\"evenodd\" fill-opacity=\"1\" /><path clip-path=\"url(#clip800)\" d=\"M62.9365 350.529 Q59.3254 350.529 57.4967 354.094 Q55.6912 357.636 55.6912 364.765 Q55.6912 371.872 57.4967 375.437 Q59.3254 378.978 62.9365 378.978 Q66.5707 378.978 68.3763 375.437 Q70.205 371.872 70.205 364.765 Q70.205 357.636 68.3763 354.094 Q66.5707 350.529 62.9365 350.529 M62.9365 346.826 Q68.7467 346.826 71.8022 351.432 Q74.8809 356.015 74.8809 364.765 Q74.8809 373.492 71.8022 378.099 Q68.7467 382.682 62.9365 382.682 Q57.1264 382.682 54.0477 378.099 Q50.9921 373.492 50.9921 364.765 Q50.9921 356.015 54.0477 351.432 Q57.1264 346.826 62.9365 346.826 Z\" fill=\"#000000\" fill-rule=\"evenodd\" fill-opacity=\"1\" /><path clip-path=\"url(#clip800)\" d=\"M83.0984 376.131 L87.9827 376.131 L87.9827 382.011 L83.0984 382.011 L83.0984 376.131 Z\" fill=\"#000000\" fill-rule=\"evenodd\" fill-opacity=\"1\" /><path clip-path=\"url(#clip800)\" d=\"M111.015 351.525 L99.2095 369.974 L111.015 369.974 L111.015 351.525 M109.788 347.451 L115.668 347.451 L115.668 369.974 L120.598 369.974 L120.598 373.862 L115.668 373.862 L115.668 382.011 L111.015 382.011 L111.015 373.862 L95.4132 373.862 L95.4132 369.349 L109.788 347.451 Z\" fill=\"#000000\" fill-rule=\"evenodd\" fill-opacity=\"1\" /><path clip-path=\"url(#clip800)\" d=\"M64.418 73.7698 Q60.8069 73.7698 58.9782 77.3346 Q57.1726 80.8762 57.1726 88.0058 Q57.1726 95.1123 58.9782 98.6771 Q60.8069 102.219 64.418 102.219 Q68.0522 102.219 69.8578 98.6771 Q71.6865 95.1123 71.6865 88.0058 Q71.6865 80.8762 69.8578 77.3346 Q68.0522 73.7698 64.418 73.7698 M64.418 70.0661 Q70.2281 70.0661 73.2837 74.6726 Q76.3624 79.2559 76.3624 88.0058 Q76.3624 96.7326 73.2837 101.339 Q70.2281 105.922 64.418 105.922 Q58.6078 105.922 55.5291 101.339 Q52.4736 96.7326 52.4736 88.0058 Q52.4736 79.2559 55.5291 74.6726 Q58.6078 70.0661 64.418 70.0661 Z\" fill=\"#000000\" fill-rule=\"evenodd\" fill-opacity=\"1\" /><path clip-path=\"url(#clip800)\" d=\"M84.5799 99.3715 L89.4641 99.3715 L89.4641 105.251 L84.5799 105.251 L84.5799 99.3715 Z\" fill=\"#000000\" fill-rule=\"evenodd\" fill-opacity=\"1\" /><path clip-path=\"url(#clip800)\" d=\"M99.6956 70.6911 L118.052 70.6911 L118.052 74.6263 L103.978 74.6263 L103.978 83.0984 Q104.996 82.7512 106.015 82.5892 Q107.033 82.404 108.052 82.404 Q113.839 82.404 117.219 85.5753 Q120.598 88.7466 120.598 94.1632 Q120.598 99.7419 117.126 102.844 Q113.654 105.922 107.334 105.922 Q105.159 105.922 102.89 105.552 Q100.645 105.182 98.2372 104.441 L98.2372 99.7419 Q100.321 100.876 102.543 101.432 Q104.765 101.987 107.242 101.987 Q111.246 101.987 113.584 99.8808 Q115.922 97.7743 115.922 94.1632 Q115.922 90.5521 113.584 88.4456 Q111.246 86.3392 107.242 86.3392 Q105.367 86.3392 103.492 86.7558 Q101.64 87.1725 99.6956 88.0521 L99.6956 70.6911 Z\" fill=\"#000000\" fill-rule=\"evenodd\" fill-opacity=\"1\" /><polyline clip-path=\"url(#clip802)\" style=\"stroke:#009af9; stroke-linecap:butt; stroke-linejoin:round; stroke-width:4; stroke-opacity:1; fill:none\" points=\"\n  218.754,87.9763 218.759,94.1721 218.771,106.036 218.799,135.475 218.855,188.654 218.916,240.726 218.983,292.95 219.064,349.21 219.183,420.443 219.258,460.083 \n  219.34,498.99 219.54,579.472 219.706,634.052 219.892,685.692 220.107,735.404 220.327,778.256 220.681,834.349 221.1,886.338 221.345,911.531 221.628,937.041 \n  222.255,983.187 223.076,1028.92 223.598,1052.18 224.308,1078.6 225.145,1104.19 226.009,1125.99 227.997,1164.34 229.208,1182.27 230.546,1198.85 233.648,1228.42 \n  235.26,1240.44 237.525,1254.66 239.845,1266.81 242.537,1278.64 248.542,1299.03 255.728,1316.61 260.214,1325.19 265.529,1333.73 271.822,1342.13 278.618,1349.68 \n  286.78,1357.2 296.909,1364.85 307.622,1371.48 317.858,1376.78 332.174,1382.95 350.385,1389.29 372.536,1395.43 404.279,1402.22 441.392,1408.23 463.543,1411.14 \n  489.501,1414.08 542.028,1418.89 599.292,1422.94 640.236,1425.29 685.642,1427.53 785.814,1431.42 893.673,1434.54 1024.26,1437.37 1114.98,1438.9 1216.2,1440.32 \n  1331.69,1441.63 1449.01,1442.7 1580.34,1443.65 1766.31,1444.64 1976.74,1445.34 2290.6,1445.72 \n  \"/>\n<path clip-path=\"url(#clip800)\" d=\"\nM1987.12 198.898 L2279.55 198.898 L2279.55 95.2176 L1987.12 95.2176  Z\n  \" fill=\"#ffffff\" fill-rule=\"evenodd\" fill-opacity=\"1\"/>\n<polyline clip-path=\"url(#clip800)\" style=\"stroke:#000000; stroke-linecap:butt; stroke-linejoin:round; stroke-width:4; stroke-opacity:1; fill:none\" points=\"\n  1987.12,198.898 2279.55,198.898 2279.55,95.2176 1987.12,95.2176 1987.12,198.898 \n  \"/>\n<polyline clip-path=\"url(#clip800)\" style=\"stroke:#009af9; stroke-linecap:butt; stroke-linejoin:round; stroke-width:4; stroke-opacity:1; fill:none\" points=\"\n  2011.12,147.058 2155.12,147.058 \n  \"/>\n<path clip-path=\"url(#clip800)\" d=\"M2192.96 166.745 Q2191.16 171.375 2189.44 172.787 Q2187.73 174.199 2184.86 174.199 L2181.46 174.199 L2181.46 170.634 L2183.96 170.634 Q2185.72 170.634 2186.69 169.8 Q2187.66 168.967 2188.84 165.865 L2189.61 163.921 L2179.12 138.412 L2183.63 138.412 L2191.74 158.689 L2199.84 138.412 L2204.35 138.412 L2192.96 166.745 Z\" fill=\"#000000\" fill-rule=\"evenodd\" fill-opacity=\"1\" /><path clip-path=\"url(#clip800)\" d=\"M2211.64 160.402 L2219.28 160.402 L2219.28 134.037 L2210.97 135.703 L2210.97 131.444 L2219.24 129.778 L2223.91 129.778 L2223.91 160.402 L2231.55 160.402 L2231.55 164.338 L2211.64 164.338 L2211.64 160.402 Z\" fill=\"#000000\" fill-rule=\"evenodd\" fill-opacity=\"1\" /></svg>\n"
     },
     "execution_count": 12,
     "metadata": {},
     "output_type": "execute_result"
    }
   ],
   "source": [
    "p = plot(dsym_correct.τ, real(G_x_correct))"
   ]
  }
 ],
 "metadata": {
  "kernelspec": {
   "display_name": "Julia 1.7.1",
   "language": "julia",
   "name": "julia-1.7"
  },
  "language_info": {
   "file_extension": ".jl",
   "mimetype": "application/julia",
   "name": "julia",
   "version": "1.7.1"
  }
 },
 "nbformat": 4,
 "nbformat_minor": 4
}
