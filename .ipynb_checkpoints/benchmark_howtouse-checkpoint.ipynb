{
 "cells": [
  {
   "cell_type": "code",
   "execution_count": 1,
   "metadata": {},
   "outputs": [
    {
     "name": "stdout",
     "output_type": "stream",
     "text": [
      "Prepare the Green's function sample ...\n",
      "Compress Green's function into ~20 coefficients ...\n",
      "Prepare the target Green's functions to benchmark with ...\n",
      "Interpolation benchmark ...\n",
      "τ → τ accuracy: 8.599061462888358e-10\n",
      "iω → iω accuracy: 2.875258912985341e-9\n",
      "Fourier transform benchmark...\n",
      "τ → iω accuracy: 2.883921510884592e-9\n",
      "iω → τ accuracy: 9.209762952266942e-10\n"
     ]
    }
   ],
   "source": [
    "using Lehmann\n",
    "β = 100.0 # inverse temperature\n",
    "Euv = 1.0 # ultraviolt energy cutoff of the Green's function\n",
    "rtol = 1e-8 # accuracy of the representation\n",
    "isFermi = false\n",
    "symmetry = :none # :ph if particle-hole symmetric, :pha is antisymmetric, :none if there is no symmetry\n",
    "\n",
    "diff(a, b) = maximum(abs.(a - b)) # return the maximum deviation between a and b\n",
    "\n",
    "dlr = DLRGrid(Euv, β, rtol, isFermi, symmetry) #initialize the DLR parameters and basis\n",
    "# A set of most representative grid points are generated:\n",
    "# dlr.ω gives the real-frequency grids\n",
    "# dlr.τ gives the imaginary-time grids\n",
    "# dlr.ωn and dlr.n gives the Matsubara-frequency grids. The latter is the integer version. \n",
    "\n",
    "println(\"Prepare the Green's function sample ...\")\n",
    "Nτ, Nωn = 10000, 10000 # many τ and n points are needed because Gτ is quite singular near the boundary\n",
    "τgrid = collect(LinRange(0.0, β, Nτ))  # create a τ grid\n",
    "Gτ = Sample.SemiCircle(dlr, :τ, τgrid) # Use semicircle spectral density to generate the sample Green's function in τ\n",
    "ngrid = collect(-Nωn:Nωn)  # create a set of Matsubara-frequency points\n",
    "Gn = Sample.SemiCircle(dlr, :n, ngrid) # Use semicircle spectral density to generate the sample Green's function in ωn\n",
    "\n",
    "println(\"Compress Green's function into ~20 coefficients ...\")\n",
    "spectral_from_Gτ = tau2dlr(dlr, Gτ, τgrid)\n",
    "spectral_from_Gω = matfreq2dlr(dlr, Gn, ngrid)\n",
    "# You can use the above functions to fit noisy data by providing the named parameter ``error``\n",
    "\n",
    "println(\"Prepare the target Green's functions to benchmark with ...\")\n",
    "τ = collect(LinRange(0.0, β, Nτ * 2))  # create a dense τ grid to interpolate\n",
    "Gτ_target = Sample.SemiCircle(dlr, :τ, τ)\n",
    "n = collect(-2Nωn:2Nωn)  # create a set of Matsubara-frequency points\n",
    "Gn_target = Sample.SemiCircle(dlr, :n, n)\n",
    "\n",
    "println(\"Interpolation benchmark ...\")\n",
    "Gτ_interp = dlr2tau(dlr, spectral_from_Gτ, τ)\n",
    "println(\"τ → τ accuracy: \", diff(Gτ_interp, Gτ_target))\n",
    "Gn_interp = dlr2matfreq(dlr, spectral_from_Gω, n)\n",
    "println(\"iω → iω accuracy: \", diff(Gn_interp, Gn_target))\n",
    "\n",
    "println(\"Fourier transform benchmark...\")\n",
    "Gτ_to_n = dlr2matfreq(dlr, spectral_from_Gτ, n)\n",
    "println(\"τ → iω accuracy: \", diff(Gτ_to_n, Gn_target))\n",
    "Gn_to_τ = dlr2tau(dlr, spectral_from_Gω, τ)\n",
    "println(\"iω → τ accuracy: \", diff(Gn_to_τ, Gτ_target))"
   ]
  },
  {
   "cell_type": "code",
   "execution_count": null,
   "metadata": {},
   "outputs": [],
   "source": []
  }
 ],
 "metadata": {
  "kernelspec": {
   "display_name": "Julia 1.7.1",
   "language": "julia",
   "name": "julia-1.7"
  },
  "language_info": {
   "file_extension": ".jl",
   "mimetype": "application/julia",
   "name": "julia",
   "version": "1.7.1"
  }
 },
 "nbformat": 4,
 "nbformat_minor": 4
}
