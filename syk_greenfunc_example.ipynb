{
 "cells": [
  {
   "cell_type": "code",
   "execution_count": 1,
   "metadata": {},
   "outputs": [
    {
     "data": {
      "text/plain": [
       "\"A SYK model solver based on a forward fixed-point iteration method.\\n The self-energy of the SYK model is given by,\\n    Σ(τ) = J² * G(τ) * G(τ) * G(β-τ),\\n    \\n where Green's function of the SYK model is given by the Dyson equation,\\n    G(iωₙ) = -1/(iωₙ -μ + Σ(iωₙ))\\n We so\" ⋯ 266 bytes ⋯ \"s solved in the Matsubara frequency domain.\\n The SYK Green's function has particle-hole symmetry when μ=0. \\n You may enforce such symmetry by setting `symmetry = :ph` when initialize the DLR grids.\\n A symmetrized solver tends to be more robust than a unsymmetrized one.\\n\""
      ]
     },
     "metadata": {},
     "output_type": "display_data"
    }
   ],
   "source": [
    "\"\"\"\n",
    "A SYK model solver based on a forward fixed-point iteration method.\n",
    " The self-energy of the SYK model is given by,\n",
    "    Σ(τ) = J² * G(τ) * G(τ) * G(β-τ),\n",
    "    \n",
    " where Green's function of the SYK model is given by the Dyson equation,\n",
    "    G(iωₙ) = -1/(iωₙ -μ + Σ(iωₙ))\n",
    " We solve the Dyson equation self-consistently by a weighted fixed point iteration, \n",
    " with weight `mix` assigned to the new iterate and weight `1-mix` assigned to the previous iterate. \n",
    " The self-energy is evaluated in the imaginary time domain, \n",
    " and the Dyson equation is solved in the Matsubara frequency domain.\n",
    " The SYK Green's function has particle-hole symmetry when μ=0. \n",
    " You may enforce such symmetry by setting `symmetry = :ph` when initialize the DLR grids.\n",
    " A symmetrized solver tends to be more robust than a unsymmetrized one.\n",
    "\"\"\""
   ]
  },
  {
   "cell_type": "code",
   "execution_count": 2,
   "metadata": {},
   "outputs": [
    {
     "name": "stdout",
     "output_type": "stream",
     "text": [
      "round 100: change 1.4752946898788366e-5, distance 2.4126492435198466e-5\n",
      "round 200: change 3.915752722072341e-10, distance 5.742356362108956e-10\n"
     ]
    },
    {
     "name": "stdout",
     "output_type": "stream",
     "text": [
      "              τ                                DLR imag                                DLR real                     asymtotically exact\n",
      "     0.00008170                       0.000000000000000                       0.499986723076073                      58.761549135713615\n"
     ]
    },
    {
     "name": "stdout",
     "output_type": "stream",
     "text": [
      "     0.04121947                       0.000000000000000                       0.493405543986533                       2.616051716932312\n",
      "     0.12773201                       0.000000000000000                       0.480214000838509                       1.486098699698725\n",
      "     0.25689580                       0.000000000000000                       0.462011175897380                       1.047898054058803\n",
      "     0.35345576                       0.000000000000000                       0.449449357150465                       0.893367193197602\n",
      "     0.47271990                       0.000000000000000                       0.435032442388555                       0.772494848565074\n",
      "     0.69279051                       0.000000000000000                       0.411198157482575                       0.638111501052028\n",
      "     0.94543980                       0.000000000000000                       0.387524963161860                       0.546236348863853\n",
      "     1.35924655                       0.000000000000000                       0.355354097897782                       0.455562975631621\n",
      "     1.96965104                       0.000000000000000                       0.318636168548485                       0.378445114442777\n",
      "     2.41512472                       0.000000000000000                       0.297508583553139                       0.341765148566514\n",
      "     2.88770351                       0.000000000000000                       0.278835808506148                       0.312551266718711\n",
      "     4.09210211                       0.000000000000000                       0.243014436971784                       0.262557460279311\n",
      "     4.98793863                       0.000000000000000                       0.223539013882613                       0.237813810672839\n",
      "     6.17334781                       0.000000000000000                       0.203593768935238                       0.213765343533810\n",
      "     7.56351841                       0.000000000000000                       0.185750787706082                       0.193123802652450\n",
      "     9.21145130                       0.000000000000000                       0.169593231830787                       0.174998290745507\n",
      "    11.31058446                       0.000000000000000                       0.154006426435102                       0.157926666104340\n",
      "    13.85304945                       0.000000000000000                       0.139839761797400                       0.142700510669417\n",
      "    17.74606096                       0.000000000000000                       0.124128427130996                       0.126080427986284\n",
      "    22.62116893                       0.000000000000000                       0.110326153938460                       0.111671369026715\n",
      "    29.61639729                       0.000000000000000                       0.096704860493355                       0.097596569681498\n",
      "    37.90938735                       0.000000000000000                       0.085651206596123                       0.086263938858537\n",
      "    42.71783819                       0.000000000000000                       0.080752987186709                       0.081264228932496\n",
      "    49.38678248                       0.000000000000000                       0.075168540706052                       0.075578954450744\n",
      "    63.02883326                       0.000000000000000                       0.066618615092070                       0.066902460485038\n",
      "    73.69161042                       0.000000000000000                       0.061649773028567                       0.061873959369972\n",
      "    85.43567638                       0.000000000000000                       0.057285708147271                       0.057465074757671\n",
      "   108.31733348                       0.000000000000000                       0.050912188084791                       0.051037625836990\n",
      "   141.96848766                       0.000000000000000                       0.044499972626669                       0.044583437757716\n",
      "   180.96935140                       0.000000000000000                       0.039434339561548                       0.039492262222379\n",
      "   206.85546501                       0.000000000000000                       0.036894335228977                       0.036941701591660\n",
      "   236.93117835                       0.000000000000000                       0.034482673304200                       0.034521287048700\n",
      "   312.12380677                       0.000000000000000                       0.030061729490576                       0.030087228193523\n",
      "   361.93870281                       0.000000000000000                       0.027927433543809                       0.027947833315354\n",
      "   423.39301918                       0.000000000000000                       0.025834243540196                       0.025850346889044\n",
      "   533.23547341                       0.000000000000000                       0.023043075950272                       0.023054441816894\n",
      "   695.93423332                       0.000000000000000                       0.020206124415365                       0.020213716544573\n",
      "   906.86964365                       0.000000000000000                       0.017751971844870                       0.017757044788802\n",
      "  1028.21396164                       0.000000000000000                       0.016704617031927                       0.016708802927486\n",
      "  1179.06576668                       0.000000000000000                       0.015643104834345                       0.015646496644117\n",
      "  1544.95759334                       0.000000000000000                       0.013780426842721                       0.013782659814524\n",
      "  1773.19032913                       0.000000000000000                       0.012945200645722                       0.012947002920251\n",
      "  2056.42792328                       0.000000000000000                       0.012131395920590                       0.012132827010053\n",
      "  2611.42021885                       0.000000000000000                       0.011006518631834                       0.011007509689464\n",
      "  3021.90287892                       0.000000000000000                       0.010439570724180                       0.010440369876146\n",
      "  3466.15467121                       0.000000000000000                       0.009999889025407                       0.010000552263115\n",
      "  4112.85584657                       0.000000000000000                       0.009600474929675                       0.009601024050665\n",
      "  4999.33073435                       0.000000000000000                       0.009413464093144                       0.009413962741809\n",
      "\n"
     ]
    }
   ],
   "source": [
    "using GreenFunc\n",
    "using Printf\n",
    "using LinearAlgebra\n",
    "\n",
    "const β = 1e4\n",
    "const J = 1.0\n",
    "const rtol = 1e-10\n",
    "\n",
    "diff(a, b) = maximum(abs.(a - b)) # return the maximum deviation between a and b\n",
    "distance(a, b) = norm(a - b, 2) # return the 1-norm distance between a and b\n",
    "\n",
    "conformal_tau(τ, β) = π^(1 / 4) / sqrt(2β) * 1 / sqrt(sin(π * τ / β)) #analytic solution with the conformal invariance\n",
    "\n",
    "const dlrmesh = DLRFreq(β, FERMION; Euv=5.0, rtol=rtol, symmetry=:ph)   # Initialize DLR grid\n",
    "\n",
    "function selfenergy(Gt)\n",
    "    ######### calculate sigma ###############\n",
    "    minus_tau = β .- Gt.mesh[1] # Reversed imaginary time mesh point\n",
    "    Gt_inv = dlr_to_imtime(to_dlr(Gt), minus_tau) # interpolate into minus_tau grid\n",
    "    Σt = J .^ 2 .* Gt .^ 2 .* Gt_inv  # SYK self-energy in imaginary time\n",
    "    return Σt |> to_dlr |> to_imfreq\n",
    "end\n",
    "\n",
    "function dyson(Gt)\n",
    "    ########## sigma --> G  ################\n",
    "    Σω = selfenergy(Gt)\n",
    "    freq = matfreq(Σω.mesh[1]) * im\n",
    "    Gω = 1im * imag.(-1 ./ (freq .+ Σω))\n",
    "\n",
    "    return Gω |> to_dlr |> to_imtime # Gω --> Gτ\n",
    "\n",
    "end\n",
    "\n",
    "function nlsolve(G_t; tol=rtol, maxiter=1000, verbose=false, mix=0.1)\n",
    "    for iter in 1:maxiter\n",
    "        G_t_new = dyson(G_t)\n",
    "        if verbose && (iter % (maxiter / 10) == 0)\n",
    "            println(\"round $iter: change $(diff(G_t_new, G_t)), distance $(distance(G_t_new, G_t))\")\n",
    "        end\n",
    "        if maximum(abs.(G_t_new - G_t)) < tol && iter > 10\n",
    "            return G_t_new\n",
    "        end\n",
    "        G_t = mix .* G_t_new + (1 - mix) .* G_t # Linear mixing\n",
    "    end\n",
    "    return G_t\n",
    "end\n",
    "\n",
    "const G_t = MeshArray(ImTime(dlrmesh); dtype=ComplexF64)\n",
    "fill!(G_t, 0.0)\n",
    "G = nlsolve(G_t, verbose=true)\n",
    "\n",
    "@printf(\"%15s%40s%40s%40s\\n\", \"τ\", \"DLR imag\", \"DLR real\", \"asymtotically exact\")\n",
    "for (i, t) in enumerate(G.mesh[1])\n",
    "    @printf(\"%15.8f%40.15f%40.15f%40.15f\\n\", t, imag(G[i]), real(G[i]), conformal_tau(t, β))\n",
    "end\n",
    "println()"
   ]
  }
 ],
 "metadata": {
  "kernelspec": {
   "display_name": "Julia 1.8.3",
   "language": "julia",
   "name": "julia-1.8"
  },
  "language_info": {
   "file_extension": ".jl",
   "mimetype": "application/julia",
   "name": "julia",
   "version": "1.8.3"
  },
  "orig_nbformat": 4,
  "vscode": {
   "interpreter": {
    "hash": "1f37f27245d596fe55b086ef4d07c8e05adeb0de442bb689b24ab3f7802e6e24"
   }
  }
 },
 "nbformat": 4,
 "nbformat_minor": 2
}
